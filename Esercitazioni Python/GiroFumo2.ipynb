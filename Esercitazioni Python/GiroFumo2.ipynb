{
 "cells": [
  {
   "cell_type": "code",
   "execution_count": 26,
   "id": "e8257247",
   "metadata": {},
   "outputs": [],
   "source": [
    "#from cleanTweet import cleaningTweet  ---> OLD\n",
    "from lemmatizationText import computeLemmatizationText\n",
    "\n",
    "import pandas as pd\n",
    "import numpy as np\n",
    "#-------------------------- processing ------------------------------\n",
    "from sklearn.feature_extraction.text import CountVectorizer\n",
    "from sklearn.feature_extraction.text import TfidfTransformer\n",
    "from sklearn.feature_selection import SelectKBest\n",
    "from sklearn.feature_selection import chi2\n",
    "from sklearn.pipeline import Pipeline\n",
    "from sklearn.model_selection import cross_validate\n",
    "from sklearn.metrics import make_scorer, accuracy_score, precision_score, recall_score, f1_score\n",
    "\n",
    "# hyper-parameters tuning\n",
    "from sklearn.model_selection import GridSearchCV\n",
    "\n",
    "# classifiers\n",
    "from sklearn import svm\n",
    "from sklearn.naive_bayes import MultinomialNB,ComplementNB\n",
    "from sklearn.linear_model import LogisticRegression\n",
    "from sklearn.tree import DecisionTreeClassifier"
   ]
  },
  {
   "cell_type": "code",
   "execution_count": 2,
   "id": "b86a183c",
   "metadata": {},
   "outputs": [],
   "source": [
    "tweetTesting = \"\\U0001F633 Apple 2021 @Apple “@Luigi “@Market update, we ’ got her back, so ’ ’ going to try and help her understand that she can go out, come back and be safe. https://t.co/Uyef7y0gxf\"\n",
    "\n",
    "cleanedTweet = cleaningTweet(tweetTesting)"
   ]
  },
  {
   "cell_type": "code",
   "execution_count": 3,
   "id": "746017e2",
   "metadata": {},
   "outputs": [
    {
     "name": "stdout",
     "output_type": "stream",
     "text": [
      "apple update we get her back so go to try and help her understand that she can go out come back and be safe\n"
     ]
    }
   ],
   "source": [
    "print(cleanedTweet)"
   ]
  },
  {
   "cell_type": "code",
   "execution_count": 9,
   "id": "2d66d7a1",
   "metadata": {},
   "outputs": [],
   "source": [
    "#dataset = pd.read_csv(\"./sample.csv\")\n",
    "#dataset.dropna(subset=[\"text\",\"tag\"], inplace=True)\n",
    "\n",
    "dataset = pd.read_csv(\"./apple_tweets_for_modelling\")\n",
    "dataset.dropna(subset=[\"Tweet Text\",\"tag\"], inplace=True)"
   ]
  },
  {
   "cell_type": "code",
   "execution_count": 10,
   "id": "b4fa2e1e",
   "metadata": {},
   "outputs": [
    {
     "data": {
      "text/html": [
       "<div>\n",
       "<style scoped>\n",
       "    .dataframe tbody tr th:only-of-type {\n",
       "        vertical-align: middle;\n",
       "    }\n",
       "\n",
       "    .dataframe tbody tr th {\n",
       "        vertical-align: top;\n",
       "    }\n",
       "\n",
       "    .dataframe thead th {\n",
       "        text-align: right;\n",
       "    }\n",
       "</style>\n",
       "<table border=\"1\" class=\"dataframe\">\n",
       "  <thead>\n",
       "    <tr style=\"text-align: right;\">\n",
       "      <th></th>\n",
       "      <th>index</th>\n",
       "      <th>Tweet Datetime</th>\n",
       "      <th>Tweet Text</th>\n",
       "      <th>tag</th>\n",
       "    </tr>\n",
       "  </thead>\n",
       "  <tbody>\n",
       "    <tr>\n",
       "      <th>0</th>\n",
       "      <td>1</td>\n",
       "      <td>2021-08-01 05:59:15</td>\n",
       "      <td>And still it too expensive and most people won...</td>\n",
       "      <td>negative</td>\n",
       "    </tr>\n",
       "    <tr>\n",
       "      <th>1</th>\n",
       "      <td>2</td>\n",
       "      <td>2021-08-01 06:22:23</td>\n",
       "      <td>Apple unpacked best phone the iPhone12 z flip</td>\n",
       "      <td>positive</td>\n",
       "    </tr>\n",
       "    <tr>\n",
       "      <th>2</th>\n",
       "      <td>3</td>\n",
       "      <td>2021-08-01 09:00:30</td>\n",
       "      <td>especially because you can trick ur Apple out ...</td>\n",
       "      <td>neutral</td>\n",
       "    </tr>\n",
       "    <tr>\n",
       "      <th>3</th>\n",
       "      <td>4</td>\n",
       "      <td>2021-08-01 09:43:12</td>\n",
       "      <td>going to jump ship to iOSthat new Apple has a ...</td>\n",
       "      <td>positive</td>\n",
       "    </tr>\n",
       "    <tr>\n",
       "      <th>4</th>\n",
       "      <td>5</td>\n",
       "      <td>2021-08-01 10:46:17</td>\n",
       "      <td>just took off my phone screen protector that c...</td>\n",
       "      <td>positive</td>\n",
       "    </tr>\n",
       "  </tbody>\n",
       "</table>\n",
       "</div>"
      ],
      "text/plain": [
       "   index       Tweet Datetime  \\\n",
       "0      1  2021-08-01 05:59:15   \n",
       "1      2  2021-08-01 06:22:23   \n",
       "2      3  2021-08-01 09:00:30   \n",
       "3      4  2021-08-01 09:43:12   \n",
       "4      5  2021-08-01 10:46:17   \n",
       "\n",
       "                                          Tweet Text       tag  \n",
       "0  And still it too expensive and most people won...  negative  \n",
       "1      Apple unpacked best phone the iPhone12 z flip  positive  \n",
       "2  especially because you can trick ur Apple out ...   neutral  \n",
       "3  going to jump ship to iOSthat new Apple has a ...  positive  \n",
       "4  just took off my phone screen protector that c...  positive  "
      ]
     },
     "execution_count": 10,
     "metadata": {},
     "output_type": "execute_result"
    }
   ],
   "source": [
    "dataset.head()"
   ]
  },
  {
   "cell_type": "code",
   "execution_count": 11,
   "id": "e041004f",
   "metadata": {},
   "outputs": [],
   "source": [
    "# label coding \n",
    "tag_codes = {\n",
    "    \"positive\" : 1, \n",
    "    \"negative\" : 0,\n",
    "    \"neutral\" : -1\n",
    "}\n",
    "\n",
    "# category mapping\n",
    "dataset[\"tag_code\"] = dataset[\"tag\"]\n",
    "dataset = dataset.replace({\"tag_code\" :tag_codes})\n",
    "\n",
    "# labels set    \n",
    "labels = dataset[\"tag_code\"]"
   ]
  },
  {
   "cell_type": "code",
   "execution_count": 27,
   "id": "de2a1de1",
   "metadata": {},
   "outputs": [
    {
     "name": "stdout",
     "output_type": "stream",
     "text": [
      "and still it too expensive and most people wont ever use that big screen for the productivity apple be talk about they only mention that to make us imagine what incredible thing wed be able to do if we buy that phone\n",
      "apple unpacked best phone the iphone z flip\n",
      "especially because you can trick ur apple out and the color be pretty plus so many cool featuresit really your device\n"
     ]
    }
   ],
   "source": [
    "lemmatized_set = []\n",
    "column_name = \"Tweet Text\"\n",
    "\n",
    "lemmatized_set = computeLemmatizationText(dataset,column_name)\n",
    "\n",
    "\n",
    "print(lemmatized_set[0])\n",
    "\n",
    "print(lemmatized_set[1])\n",
    "\n",
    "print(lemmatized_set[2])"
   ]
  },
  {
   "cell_type": "code",
   "execution_count": 13,
   "id": "5919714b",
   "metadata": {},
   "outputs": [
    {
     "name": "stdout",
     "output_type": "stream",
     "text": [
      "and still it too expensive and most people wont ever use that big screen for the productivity apple be talk about they only mention that to make us imagine what incredible thing wed be able to do if we buy that phone\n",
      "apple unpacked best phone the iphone z flip\n",
      "especially because you can trick ur apple out and the color be pretty plus so many cool featuresit really your device\n"
     ]
    }
   ],
   "source": [
    "lemmatized_set = []\n",
    "key_name = \"Tweet Text\"\n",
    "for row_index in dataset.index:\n",
    "    row_field = dataset.loc[row_index, key_name]\n",
    "\n",
    "    filtered_tokens = cleaningTweet(row_field)\n",
    "\n",
    "    # lemmatization\n",
    "    lemmatized_set.append(filtered_tokens)\n",
    "\n",
    "print(lemmatized_set[0])\n",
    "\n",
    "print(lemmatized_set[1])\n",
    "\n",
    "print(lemmatized_set[2])"
   ]
  },
  {
   "cell_type": "code",
   "execution_count": 14,
   "id": "4cee698a",
   "metadata": {},
   "outputs": [
    {
     "name": "stdout",
     "output_type": "stream",
     "text": [
      "and still it too expensive and most people wont ever use that big screen for the productivity apple be talk about they only mention that to make us imagine what incredible thing wed be able to do if we buy that phone\n",
      "apple unpacked best phone the iphone z flip\n",
      "especially because you can trick ur apple out and the color be pretty plus so many cool featuresit really your device\n",
      "go to jump ship to iosthat new apple have a megapixel camera and i need it\n",
      "just take off my phone screen protector that come preinstalled by apple and it turn out the glass i think have chip be actually just screen protector damage i think i be go to have to pay £ for a new screen thank you jesus thank you apple\n",
      "would anyone want to purchase a apple k screen before i toss it on the public scam place absolutely zero issue buy it roughly a year ago im try to upgrade be all wife need some motivation i have ton of screenshots if need\n",
      "yeah so all you need be a new phone make by a different company like apple\n",
      "wait why be this amazing why do i have a sudden desire to buy a apple phone omg\n",
      "hi him i have have apple note as since note and i think it be the best phone i have a note gb mod now but somethings make me really pissedlike if you want to repair a broken screen cost a lot and you must send your phone away for now week usually day gt\n",
      "plot twist this video be film all on the new apple phone\n",
      "lol i love this concept so much but i still can not forget this apple commercial from year ago it be so cool tablo boa xia junsu jin bora appleanycall anyband\n",
      "apple i have decide to change my phone because of this thank you for give us actor in and dancer in\n",
      "needless to say i be pretty excite for the future of smart phone technology yes i be a nerd\n",
      "i have always be a fan of apple apple everything from my tv to my phone to my microwave\n",
      "this be so cool x apple\n",
      "anyone else with a apple phone have two american flag emojis\n",
      "um this be fuck annoy apple io never have this happen before on any other device every time i open anything that have a place to type i have this b notification amp popup to clear yes everything be updated reset safemode why be this happen\n",
      "i be go to need you to drop a apple curved glass phone with your case on it from foot down a concrete staircase from a swinging purse just to be sure it will work for me\n",
      "apple iphone bud live review unique design with perfect fit finally gogitech apple applebudslive iphonebudslive\n",
      "how do i select more than one game to watch on my new apple tv\n",
      "how do i watch multiple game on my new apple tv\n",
      "new video my note ultra review be here do apple fail me again\n",
      "apple be insane for do this\n",
      "i guess i be do use my old apple iphone as a dedicated pokemongo device\n",
      "this apple iphone be a marvel it screen rival an hdtv the camera be a whopping mp it be g capable with our new rate plan\n",
      "i think experience shipping tv directly translate to have the best cutting edge amp high quality display in their mobile device mad prop to the note ultra\n",
      "last post before bed today get a new apple iphone a and need a wallpaper for it obviously i plan on put rosy there but i want a new pic but can not think of any pose if anyone care to could you drop some pic of pose you think would work for a phone wallpaper\n",
      "my phone lock me out and i have to call apple security team i spend an hour on hold with the guardian of the iphoneinger superherohumor nflsunday welldonetoffees\n",
      "holy crap applei do not even have word for this masterpiece of an ad hotdang jinkook iphone\n",
      "i could watch these apple commercial over and over they look amaze\n"
     ]
    }
   ],
   "source": [
    "for i in range(0,30):\n",
    "    print(lemmatized_set[i])"
   ]
  },
  {
   "cell_type": "code",
   "execution_count": 19,
   "id": "103d97cf",
   "metadata": {},
   "outputs": [],
   "source": [
    "#Processing\n",
    "num_features = 500\n",
    "\n",
    "# Bag Of Words - uni-grams \n",
    "BOW_uni_svm_pipe = Pipeline([\n",
    "        ('vect', CountVectorizer(ngram_range=(1, 1))),\n",
    "        ('fselect', SelectKBest(chi2, k=num_features)),\n",
    "        ('clf', svm.SVC()),\n",
    "        ])\n",
    "\n",
    "scoring = {'accuracy' : make_scorer(accuracy_score), \n",
    "            'precision' : make_scorer(precision_score,average='micro',labels=labels,zero_division=True),\n",
    "            'recall' : make_scorer(recall_score,average='micro',labels=labels,zero_division=True), \n",
    "            'f1_score' : make_scorer(f1_score,average='micro',labels=labels,zero_division=True)}\n"
   ]
  },
  {
   "cell_type": "code",
   "execution_count": 20,
   "id": "0e18bf4c",
   "metadata": {},
   "outputs": [],
   "source": [
    "# store results\n",
    "results = []\n",
    "results.append(cross_validate(estimator= BOW_uni_svm_pipe,\n",
    "                    X=lemmatized_set,\n",
    "                    y=labels,\n",
    "                    cv=10,\n",
    "                    scoring=scoring\n",
    "                    )) "
   ]
  },
  {
   "cell_type": "code",
   "execution_count": 21,
   "id": "a9a65f31",
   "metadata": {},
   "outputs": [
    {
     "name": "stdout",
     "output_type": "stream",
     "text": [
      "[0.58798283 0.64806867 0.68240343 0.69957082 0.74678112 0.71244635\n",
      " 0.7639485  0.72532189 0.76724138 0.69396552]\n",
      "[0.59151761 0.65405867 0.68702646 0.70508679 0.74745081 0.71859509\n",
      " 0.76606053 0.72793478 0.77293857 0.69609012]\n",
      "[0.58246167 0.64192578 0.68261929 0.69529468 0.74768159 0.7113368\n",
      " 0.76370373 0.72856087 0.76760766 0.69159748]\n",
      "[0.58695471 0.64793543 0.68481578 0.7001565  0.74756618 0.71494752\n",
      " 0.76488031 0.72824769 0.77026389 0.69383653]\n",
      "{'Num Features': 500, 'BOW uni-grams Accuracy': 0.7027730501701939, 'BOW uni-grams Precision': 0.7066759412405722, 'BOW uni-grams Recall': 0.701278953077531, 'BOW uni-grams F1 Score': 0.7039604538457571}\n"
     ]
    }
   ],
   "source": [
    "#append result\n",
    "tmp_svm = {}\n",
    "tmp_svm[\"Num Features\"] = num_features\n",
    "tmp_svm[\"BOW uni-grams Accuracy\"] = np.mean(results[0]['test_accuracy'])\n",
    "tmp_svm[\"BOW uni-grams Precision\"] = np.mean(results[0]['test_precision'])\n",
    "tmp_svm[\"BOW uni-grams Recall\"] = np.mean(results[0]['test_recall'])\n",
    "tmp_svm[\"BOW uni-grams F1 Score\"] = np.mean(results[0]['test_f1_score'])\n",
    "\n",
    "print(results[0]['test_accuracy'])\n",
    "print(results[0]['test_precision'])\n",
    "print(results[0]['test_recall'])\n",
    "print(results[0]['test_f1_score'])\n",
    "print(tmp_svm)"
   ]
  },
  {
   "cell_type": "code",
   "execution_count": null,
   "id": "14ce84e0",
   "metadata": {},
   "outputs": [],
   "source": []
  }
 ],
 "metadata": {
  "kernelspec": {
   "display_name": "Python 3",
   "language": "python",
   "name": "python3"
  },
  "language_info": {
   "codemirror_mode": {
    "name": "ipython",
    "version": 3
   },
   "file_extension": ".py",
   "mimetype": "text/x-python",
   "name": "python",
   "nbconvert_exporter": "python",
   "pygments_lexer": "ipython3",
   "version": "3.8.8"
  }
 },
 "nbformat": 4,
 "nbformat_minor": 5
}
