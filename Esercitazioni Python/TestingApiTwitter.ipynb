{
 "cells": [
  {
   "cell_type": "code",
   "execution_count": 1,
   "id": "5b4aaa1b",
   "metadata": {},
   "outputs": [],
   "source": [
    "import tweepy\n",
    "import csv\n",
    "import datetime"
   ]
  },
  {
   "cell_type": "code",
   "execution_count": 2,
   "id": "1842a7de",
   "metadata": {},
   "outputs": [],
   "source": [
    "    # Create variables for each key, secret, token\n",
    "    consumer_key = \"IG3sIHi0ovFvy7ZVygb928qzu\"\n",
    "    consumer_secret = \"UXCsm2QYnLTWvliXTq9CPUPgY6oiDFPrWeOFY1u3x6Wv3SX0A5\"\n",
    "    access_token = \"1301906875454304263-CQ8EKyDnuxymqez9EWtznKwQXhDZUH\"\n",
    "    access_token_secret = \"Yln6i4Mv6PXAmZY8Vz22RGW86PeW6b1y4YZsIEyGDHwcM\"\n",
    "\n",
    "    # Set up OAuth and integrate with API\n",
    "    auth = tweepy.OAuthHandler(consumer_key, consumer_secret)\n",
    "    auth.set_access_token(access_token, access_token_secret)\n",
    "    api = tweepy.API(auth, wait_on_rate_limit=True, wait_on_rate_limit_notify=True)"
   ]
  },
  {
   "cell_type": "code",
   "execution_count": 3,
   "id": "f9cf297e",
   "metadata": {},
   "outputs": [],
   "source": [
    "api = tweepy.API(auth)"
   ]
  },
  {
   "cell_type": "code",
   "execution_count": 4,
   "id": "88f8e215",
   "metadata": {},
   "outputs": [
    {
     "name": "stdout",
     "output_type": "stream",
     "text": [
      "Dentons con Alliance Medical nell'acquisizione di Monza Medicina https://t.co/XEj0LM2Vxx https://t.co/WchrCdnlks\n"
     ]
    }
   ],
   "source": [
    "public_tweets = api.home_timeline()\n",
    "#for tweet in public_tweets:\n",
    "#   print(tweet.text)\n",
    "print(public_tweets[0].text)\n",
    "    "
   ]
  },
  {
   "cell_type": "code",
   "execution_count": 6,
   "id": "24b424fa",
   "metadata": {},
   "outputs": [
    {
     "name": "stdout",
     "output_type": "stream",
     "text": [
      "{\n",
      "    \"contributors\": null,\n",
      "    \"coordinates\": null,\n",
      "    \"created_at\": \"Sat Aug 21 08:13:02 +0000 2021\",\n",
      "    \"entities\": {\n",
      "        \"hashtags\": [],\n",
      "        \"symbols\": [],\n",
      "        \"urls\": [\n",
      "            {\n",
      "                \"display_url\": \"milano.repubblica.it/cronaca/2021/0\\u2026\",\n",
      "                \"expanded_url\": \"https://milano.repubblica.it/cronaca/2021/08/21/news/milano_profughi_afganistan-314722984/?rss&ref=twhr\",\n",
      "                \"indices\": [\n",
      "                    111,\n",
      "                    134\n",
      "                ],\n",
      "                \"url\": \"https://t.co/BIgk1aDGkQ\"\n",
      "            }\n",
      "        ],\n",
      "        \"user_mentions\": []\n",
      "    },\n",
      "    \"favorite_count\": 1,\n",
      "    \"favorited\": false,\n",
      "    \"geo\": null,\n",
      "    \"id\": 1428993535408177160,\n",
      "    \"id_str\": \"1428993535408177160\",\n",
      "    \"in_reply_to_screen_name\": null,\n",
      "    \"in_reply_to_status_id\": null,\n",
      "    \"in_reply_to_status_id_str\": null,\n",
      "    \"in_reply_to_user_id\": null,\n",
      "    \"in_reply_to_user_id_str\": null,\n",
      "    \"is_quote_status\": false,\n",
      "    \"lang\": \"it\",\n",
      "    \"place\": null,\n",
      "    \"possibly_sensitive\": false,\n",
      "    \"possibly_sensitive_appealable\": false,\n",
      "    \"retweet_count\": 0,\n",
      "    \"retweeted\": false,\n",
      "    \"source\": \"<a href=\\\"https://dlvrit.com/\\\" rel=\\\"nofollow\\\">dlvr.it</a>\",\n",
      "    \"text\": \"I rifugiati dell'Afghanistan nei Covid Hotel di Milano. E scatta la catena solidale: \\\"Una stanza per le donne\\\" https://t.co/BIgk1aDGkQ\",\n",
      "    \"truncated\": false,\n",
      "    \"user\": {\n",
      "        \"contributors_enabled\": false,\n",
      "        \"created_at\": \"Tue Jan 13 11:46:29 +0000 2009\",\n",
      "        \"default_profile\": false,\n",
      "        \"default_profile_image\": false,\n",
      "        \"description\": \"Notizie in tempo reale, dall'Italia e dal mondo, 24 ore su 24\",\n",
      "        \"entities\": {\n",
      "            \"description\": {\n",
      "                \"urls\": []\n",
      "            },\n",
      "            \"url\": {\n",
      "                \"urls\": [\n",
      "                    {\n",
      "                        \"display_url\": \"repubblica.it\",\n",
      "                        \"expanded_url\": \"http://www.repubblica.it\",\n",
      "                        \"indices\": [\n",
      "                            0,\n",
      "                            23\n",
      "                        ],\n",
      "                        \"url\": \"https://t.co/kCxoOAdZbi\"\n",
      "                    }\n",
      "                ]\n",
      "            }\n",
      "        },\n",
      "        \"favourites_count\": 456,\n",
      "        \"follow_request_sent\": false,\n",
      "        \"followers_count\": 3154155,\n",
      "        \"following\": true,\n",
      "        \"friends_count\": 385,\n",
      "        \"geo_enabled\": true,\n",
      "        \"has_extended_profile\": false,\n",
      "        \"id\": 18935802,\n",
      "        \"id_str\": \"18935802\",\n",
      "        \"is_translation_enabled\": true,\n",
      "        \"is_translator\": false,\n",
      "        \"lang\": null,\n",
      "        \"listed_count\": 12443,\n",
      "        \"location\": \"Rome, Italy\",\n",
      "        \"name\": \"Repubblica\",\n",
      "        \"notifications\": false,\n",
      "        \"profile_background_color\": \"F1F1F1\",\n",
      "        \"profile_background_image_url\": \"http://abs.twimg.com/images/themes/theme1/bg.png\",\n",
      "        \"profile_background_image_url_https\": \"https://abs.twimg.com/images/themes/theme1/bg.png\",\n",
      "        \"profile_background_tile\": false,\n",
      "        \"profile_banner_url\": \"https://pbs.twimg.com/profile_banners/18935802/1625772119\",\n",
      "        \"profile_image_url\": \"http://pbs.twimg.com/profile_images/1394416762377154561/QPLFhoVe_normal.jpg\",\n",
      "        \"profile_image_url_https\": \"https://pbs.twimg.com/profile_images/1394416762377154561/QPLFhoVe_normal.jpg\",\n",
      "        \"profile_link_color\": \"00376B\",\n",
      "        \"profile_sidebar_border_color\": \"FFFFFF\",\n",
      "        \"profile_sidebar_fill_color\": \"DBDBDB\",\n",
      "        \"profile_text_color\": \"2A292B\",\n",
      "        \"profile_use_background_image\": true,\n",
      "        \"protected\": false,\n",
      "        \"screen_name\": \"repubblica\",\n",
      "        \"statuses_count\": 913295,\n",
      "        \"time_zone\": null,\n",
      "        \"translator_type\": \"none\",\n",
      "        \"url\": \"https://t.co/kCxoOAdZbi\",\n",
      "        \"utc_offset\": null,\n",
      "        \"verified\": true,\n",
      "        \"withheld_in_countries\": []\n",
      "    }\n",
      "}\n"
     ]
    }
   ],
   "source": [
    "import json\n",
    "#convert to string\n",
    "json_str = json.dumps(public_tweets[0]._json)\n",
    "\n",
    "#deserialize string into python object\n",
    "parsed = json.loads(json_str)\n",
    "\n",
    "print(json.dumps(parsed, indent=4, sort_keys=True))\n"
   ]
  },
  {
   "cell_type": "code",
   "execution_count": 6,
   "id": "51125384",
   "metadata": {},
   "outputs": [],
   "source": [
    "user = api.get_user('twitter')"
   ]
  },
  {
   "cell_type": "code",
   "execution_count": 7,
   "id": "fea58a00",
   "metadata": {},
   "outputs": [],
   "source": [
    "#keywords = \"Apple OR @Apple OR @AppleUS OR @AppleMobileUS OR @AppleMobile (battery OR charg OR camera OR iphone OR smartphone OR mobile OR device OR display OR screen OR watch) -T-mobile -peacockTV -Peacock -Microsoft -surface -giveaway -Pixel -Unboxing -protector -iPhone -Trump -ios -apple -Samsung -LG -motorola -surface -filter:retweets\"      \n",
    "#keywords = \"iPhone OR Apple -price -Trump -filter:retweets\"\n",
    "keywords = \"iPhone13  -filter:retweets -AppleEvent\"  \n",
    "tweets = tweepy.Cursor(api.search, \n",
    "                        q=keywords,\n",
    "                       # result_type=\"recent\",\n",
    "                        lang=\"en\",\n",
    "                        tweet_mode=\"extended\"\n",
    "                        ).items(500)"
   ]
  },
  {
   "cell_type": "code",
   "execution_count": 8,
   "id": "7a6bae86",
   "metadata": {},
   "outputs": [
    {
     "name": "stdout",
     "output_type": "stream",
     "text": [
      "[['1437793534568972309', datetime.datetime(2021, 9, 14, 15, 1, 6), 'NO RT', 'Apple is expected to reveal the #iPhone13 today https://t.co/f90EQzx450', 'en']]\n",
      "1\n",
      "[['1437793479485239301', datetime.datetime(2021, 9, 14, 15, 0, 53), 'NO RT', \"#Apple's expected to announce the new #iphone13 today at its September event, but new iPads and Macs reportedly won't be revealed until later this fall. #tech #gadgets #iOS15\\n\\nhttps://t.co/5ojT28mEBE\", 'en']]\n",
      "2\n",
      "[['1437793342910312450', datetime.datetime(2021, 9, 14, 15, 0, 20), 'NO RT', 'Speed challenge 🔝🦋✅ #TikTok #iPhone13 #speed #Twitter #FolloMe https://t.co/ONkcR4yB6q', 'en']]\n",
      "3\n",
      "[['1437793271091273738', datetime.datetime(2021, 9, 14, 15, 0, 3), 'NO RT', 'I Think is  iPhone 📲 14 name 💜 #Apple #iPhone13', 'en']]\n",
      "4\n",
      "[['1437792948104704015', datetime.datetime(2021, 9, 14, 14, 58, 46), 'NO RT', \"What to expect from Apple's #iPhone13 event. https://t.co/zGCABcO5Pl\", 'en']]\n",
      "5\n",
      "[['1437792931990147077', datetime.datetime(2021, 9, 14, 14, 58, 42), 'NO RT', \"10 Fun Facts About iPhone's https://t.co/jU6M5k8F29 via @YouTube \\n@Apple #appel13liveevent #iPhone13 #iphone13series\", 'en']]\n",
      "6\n",
      "[['1437792810028126220', datetime.datetime(2021, 9, 14, 14, 58, 13), 'NO RT', '10.30 pm today iPhone 13 event. 🙄\\n😟😟  \\nMiddle Class Ki andubatuloo Series Emanna Vasthe Bagundu\\n#iphone13series\\n#iPhone13\\nhttps://t.co/t2DtttpvRS', 'en']]\n",
      "7\n",
      "[['1437792773420240909', datetime.datetime(2021, 9, 14, 14, 58, 4), 'NO RT', 'The #Apple online store is down in advance of the anticipated launch of the #iPhone13 during Apple\\'s \"California Streaming\" event. Here\\'s what that means. https://t.co/OdPkcmT0te', 'en']]\n",
      "8\n",
      "[['1437792748632002569', datetime.datetime(2021, 9, 14, 14, 57, 58), 'NO RT', 'LIVE: Apple’s California Streaming event will start in 2 hours. We expect Apple to unveil four models of the #iPhone13, a new Apple Watch Series 7, and possibly third-generation AirPods. https://t.co/phLrFPfW4L', 'en']]\n",
      "9\n",
      "[['1437792526208061458', datetime.datetime(2021, 9, 14, 14, 57, 5), 'NO RT', 'iPhone13', 'en']]\n",
      "10\n",
      "[['1437792018688888846', datetime.datetime(2021, 9, 14, 14, 55, 4), 'NO RT', 'Waiting for the iPhone 13 launch... Really excited!!\\n\\n#iphone13series #iPhone #iPhone13', 'en']]\n",
      "11\n",
      "[['1437791984509460490', datetime.datetime(2021, 9, 14, 14, 54, 56), 'NO RT', '#Shafqatmehmood\\n#MetGala\\n#방탄소년단\\n#iphone13series\\n#StopHindiImposition\\n#iPhone13\\n#ShafqatMahmood\\n#VaccinePassports\\n#Airdrop\\n#Crypto\\n\\nPUBG IN REAL LIFE #SubscribeNow\\n\\nhttps://t.co/JOuMDDpojq', 'en']]\n",
      "12\n",
      "[['1437791785296793603', datetime.datetime(2021, 9, 14, 14, 54, 9), 'NO RT', '📷 LIVE: Apple’s California Streaming event will start in 2 hours. We expect Apple to unveil four models of the #iPhone13, a new Apple Watch Series 7, and possibly third-generation AirPods.... https://t.co/Z4WRAGkae9', 'en']]\n",
      "13\n",
      "[['1437791777382088707', datetime.datetime(2021, 9, 14, 14, 54, 7), 'NO RT', 'LIVE: Apple’s California Streaming event will start in 2 hours. We expect Apple to unveil four models of the #iPhone13, a new Apple Watch Series 7, and possibly third-generation AirPods. https://t.co/nI38cHyPeX', 'en']]\n",
      "14\n",
      "[['1437791620066385926', datetime.datetime(2021, 9, 14, 14, 53, 29), 'NO RT', 'Apple #CaliforniaStreaming Event: How To Watch #iPhone13 Launch Live? Time, Links &amp; More \\n\\nhttps://t.co/ay5K1MeAAo', 'en']]\n",
      "15\n",
      "[['1437791420182577164', datetime.datetime(2021, 9, 14, 14, 52, 42), 'NO RT', 'iPhone13 or 12s?', 'en']]\n",
      "16\n",
      "[['1437791210278735878', datetime.datetime(2021, 9, 14, 14, 51, 52), 'NO RT', 'As IPhone 13 come di3333 people’s girls will be snatched 😂😂😂😂..\\n#iPhone13', 'en']]\n",
      "17\n",
      "[['1437791166985084932', datetime.datetime(2021, 9, 14, 14, 51, 41), 'NO RT', 'Indian army always with awam\\n#Kashmir #ARMY #Shafqatmehmood #StopHindiImposition #HindiDivas #MetGala2021 #NaangaVeraMaari #VaccinePassports #VaccinePassport #ChampionsLeague #Crypto #iphone13series #iPhone13 https://t.co/yebU7G1Nfz', 'en']]\n",
      "18\n",
      "[['1437791157006872584', datetime.datetime(2021, 9, 14, 14, 51, 39), 'NO RT', '2008 C300\\nFull option with pop up screen and panoramic roof\\nLocation: Lagos\\nPrice:3.4m\\nDM is open\\nWhatsApp/call: 07049235587\\n#Lagos \\n#Naira \\n#Buhari \\n#iPhone13 \\n#Abuja https://t.co/g1I30zmHa8', 'en']]\n",
      "19\n",
      "[['1437790884393852935', datetime.datetime(2021, 9, 14, 14, 50, 34), 'NO RT', 'iPhone 13 Launching Ceremony | Complete Features in Urdu | 14 Sep 2021\\n#BOLNews #iPhone13 #iphone13series \\nhttps://t.co/w3689PvWfO', 'en']]\n",
      "20\n",
      "[['1437790779460792320', datetime.datetime(2021, 9, 14, 14, 50, 9), 'NO RT', 'TREX Agency Talent\\nMerzenne\\n#Kitty #Live ID : 94693728\\n\\nJoin TREX Agency\\nBetter life, better future\\n\\n#LiveStreaming #STREAM #liveline #Live #talent #repostday #TWICE #iPhone13 #Airdrop #yuki #bayern #reject #MetGala #girl #ADA https://t.co/IsGl4nnOXo', 'en']]\n",
      "21\n",
      "[['1437790502724718608', datetime.datetime(2021, 9, 14, 14, 49, 3), 'NO RT', '#IndianArmy encouragement for Awam #bbtvi #BBNajia6 #ChampionsLeague #Crypto #HindiDivas #HAPPYBIRTHDAYNAMJOON #iphone13series #iPhone13 #iPhone #MetGala #MetGala2021 #NaangaVeraMaari #Qatar #Shafqatmehmood #StopHindiImposition #tuesdaymotivations #valg2021 #VaccinePassport https://t.co/fTcpyE57XZ', 'en']]\n",
      "22\n",
      "[['1437790005691392011', datetime.datetime(2021, 9, 14, 14, 47, 4), 'NO RT', 'Official promotional images of the #iPhone13 have leaked! Take a look below! https://t.co/VHYckshQ2r', 'en']]\n",
      "23\n",
      "[['1437789693215715333', datetime.datetime(2021, 9, 14, 14, 45, 50), 'NO RT', \"#iPhone13 #Crypto #Dogecoin. That's our bond 💪💪💪💪 @elonmusk https://t.co/MS6YIHNDQQ\", 'en']]\n",
      "24\n",
      "[['1437789567256571919', datetime.datetime(2021, 9, 14, 14, 45, 20), 'NO RT', 'Who else excited towards this launch but never used iphone 😂😂 #iphone13series #iPhone13 #AppleEvent2021 #cali', 'en']]\n",
      "25\n",
      "[['1437789168399171592', datetime.datetime(2021, 9, 14, 14, 43, 45), 'NO RT', '@Apple Wait for New IPHONE13 lucky number', 'en']]\n",
      "26\n",
      "[['1437789146844631040', datetime.datetime(2021, 9, 14, 14, 43, 40), 'NO RT', 'iPhone 13 rumor mill reaches fever pitch: Everything to know before the Apple event\\nhttps://t.co/y00zHhU60H\\n\\n#iPhone13 #CaliforniaStreaming #technology #AppleEvent2021 #Smartphone #SmartTech #gadgets #NewFeature https://t.co/RSo1E3nIy6', 'en']]\n",
      "27\n",
      "[['1437789055551475717', datetime.datetime(2021, 9, 14, 14, 43, 18), 'NO RT', '@chaennieshy blink e my\\n\\n#gfvip #tzvip #rosmello #prelemi #gregorelli #followtrick #dispatchcouple \\n#ChampionsLeague #iPhone13 \\nhttps://t.co/XQ2Fy6zWae', 'en']]\n",
      "28\n",
      "[['1437789046433062924', datetime.datetime(2021, 9, 14, 14, 43, 16), 'NO RT', '@NTRcultOfficial @tarak9999 Spot Admin in shows\\nand Get #Iphone13 😉😎\\n\\n#EvaruMeeloKoteeswarulu \\n#EMKbyNTRonGeminiTV https://t.co/3w9lMjYIyy', 'en']]\n",
      "29\n",
      "[['1437788936152170508', datetime.datetime(2021, 9, 14, 14, 42, 49), 'NO RT', '@coffejinie meses \\n\\n#gfvip #tzvip #rosmello #prelemi #gregorelli #followtrick #dispatchcouple \\n#ChampionsLeague #iPhone13 \\nhttps://t.co/XQ2Fy6zWae', 'en']]\n",
      "30\n",
      "[['1437788808951513100', datetime.datetime(2021, 9, 14, 14, 42, 19), 'NO RT', 'Looking forward to see higher refresh rate on #iPhone13', 'en']]\n",
      "31\n",
      "[['1437788719696818188', datetime.datetime(2021, 9, 14, 14, 41, 58), 'NO RT', '#iPhone13 hope he will add $ALGO', 'en']]\n",
      "32\n",
      "[['1437788703783538690', datetime.datetime(2021, 9, 14, 14, 41, 54), 'NO RT', 'iPhone 13/ iOS 15 reveals in a couple of hours, you can watch along on the Apple website https://t.co/pNHAis9F8n or on YouTube https://t.co/TR0EFguEQ1 #Apple #iOS15 #iPhone13 https://t.co/0DMkoaSiu4', 'en']]\n",
      "33\n",
      "[['1437788532827992068', datetime.datetime(2021, 9, 14, 14, 41, 13), 'NO RT', 'Past 3 years iphones be like:\\n\\n#iphone13series #Apple #iPhone13 https://t.co/wgg2nWECCP', 'en']]\n",
      "34\n",
      "[['1437788371330404354', datetime.datetime(2021, 9, 14, 14, 40, 35), 'NO RT', 'I so want an Iphone 13\\n\\n#iphone13 #iwantone', 'en']]\n",
      "35\n",
      "[['1437788235774808079', datetime.datetime(2021, 9, 14, 14, 40, 2), 'NO RT', '#Apple is launching the new #iPhone13 today! The stock has continued to rise as the hype builds around the new #smartphone. Are you trading #AppleStock?\\n\\nStart your #StockTrading journey at https://t.co/SuUl54ycYj https://t.co/1sIcTu4qpE', 'en']]\n",
      "36\n",
      "[['1437788159149068296', datetime.datetime(2021, 9, 14, 14, 39, 44), 'NO RT', 'Indian army  always  with awam\\n#HindiDivas #Shafqatmehmood #StopHindiImposition #Qatar #tuesdaymotivations #tuesdayvibe #Uttarakhand #iphone13series #iPhone13 #iPhone #ChampionsLeague #Crypto #VaccinePassports #VaccinePassport #NaangaVeraMaari #MetGala2021 https://t.co/4SFlMGtS9B', 'en']]\n",
      "37\n",
      "[['1437788016379146240', datetime.datetime(2021, 9, 14, 14, 39, 10), 'NO RT', 'If is one thing imma Sucka for is Apple products iphone13 see you soon https://t.co/vTbsroEeGC', 'en']]\n",
      "38\n",
      "[['1437787603990978564', datetime.datetime(2021, 9, 14, 14, 37, 32), 'NO RT', 'Desperately waiting for #iPhone13', 'en']]\n",
      "39\n",
      "[['1437787536043167756', datetime.datetime(2021, 9, 14, 14, 37, 16), 'NO RT', 'Really excited for the iPhone 13 series,\\nCan wait for the new beast☺. #iPhone #iphone13series #iPhone13', 'en']]\n",
      "40\n",
      "[['1437787436906684422', datetime.datetime(2021, 9, 14, 14, 36, 52), 'NO RT', 'ARMY ORGANISED MEDICAL CAMP AT KISHTWAR #Airdrop #ChampionsLeague #coronavirus #ColdplayXBTS #DEATHLOOP #Dubai #Europe #HindiDivas #HAPPYBIRTHDAYNAMJOON #HappyBirthdayNiallHoran #hindidiwas2021 #HindiImposition #iphone13series #iPhone13 #iPhone #jebacamerykanow #JINHWAN #Johnny https://t.co/RhWytPvgIu', 'en']]\n",
      "41\n",
      "[['1437787366610067463', datetime.datetime(2021, 9, 14, 14, 36, 35), 'NO RT', '@itscutelt . \\n\\niPhone13 zendaya, met gala 2021, bryce, kendall, madison, barbie, renner, timothee, kim kardashian, kim kardashian kendall jenner gigi hadid look bella hadid justin shawn #MetGala2021\\xa0\\xa0 #MetGala\\xa0 https://t.co/DwuSHUUy2o', 'en']]\n",
      "42\n",
      "[['1437787237937205267', datetime.datetime(2021, 9, 14, 14, 36, 4), 'NO RT', '@Iwtrocker oq \\n\\niPhone13 zendaya, met gala 2021, bryce, kendall, madison, barbie, renner, timothee, kim kardashian, kim kardashian kendall jenner gigi hadid look bella hadid justin shawn #MetGala2021\\xa0\\xa0 #MetGala\\xa0 https://t.co/DwuSHUUy2o', 'en']]\n",
      "43\n",
      "[['1437786724688666637', datetime.datetime(2021, 9, 14, 14, 34, 2), 'NO RT', 'iPhone 13 Pro sunet finish. \\nSee you at Apple event!\\n[render] @concept_gunho \\n\\n#apple #iPhone13 #iphone13pro #iphone14 #applewatch7 #아이폰13 #아이폰13프로 #애플워치7 https://t.co/V6J1lgKRE2', 'en']]\n",
      "44\n",
      "[['1437786626537701382', datetime.datetime(2021, 9, 14, 14, 33, 39), 'NO RT', '@zlwings nossa sim!! \\n\\niPhone13 zendaya, met gala 2021, bryce, kendall, madison, barbie, renner, timothee, kim kardashian, kim kardashian kendall jenner gigi hadid look bella hadid justin shawn #MetGala2021\\xa0\\xa0 #MetGala\\xa0 https://t.co/DwuSHUUy2o', 'en']]\n",
      "45\n"
     ]
    },
    {
     "name": "stdout",
     "output_type": "stream",
     "text": [
      "[['1437786570338279426', datetime.datetime(2021, 9, 14, 14, 33, 25), 'NO RT', 'Within next few days we can see affordable iPhone 13 models in android versions \\n#iPhone13 #iphone13series #iPhone #iOS', 'en']]\n",
      "46\n",
      "[['1437786424879747073', datetime.datetime(2021, 9, 14, 14, 32, 51), 'NO RT', '#FelizMartesATodos\\n#BuongiornoATutti\\n#HappyTuesday amazing people..XOXO \\n\\n#MetGala #MetGala2021 #ColdplayXBTS #ChampionsLeague #iPhone13 #BBNajia6 #iPhone #LuciferSeason6 #BBNajia #PorLoHechoEnVenezuela #MasterChefCelebrity https://t.co/tCBkubidHG', 'en']]\n",
      "47\n",
      "[['1437786417900445698', datetime.datetime(2021, 9, 14, 14, 32, 49), 'NO RT', '@hswfine . \\n\\niPhone13 zendaya, met gala 2021, bryce, kendall, madison, barbie, renner, timothee, kim kardashian, kim kardashian kendall jenner gigi hadid look bella hadid justin shawn #MetGala2021\\xa0\\xa0 #MetGala\\xa0 https://t.co/DwuSHUUy2o', 'en']]\n",
      "48\n",
      "[['1437786268566532104', datetime.datetime(2021, 9, 14, 14, 32, 13), 'NO RT', '\\uf8ff california streaming.\\n\\uf8ff event promoting the new \\uf8ff#iphone13, \\uf8ff#watch7, \\uf8ff#airpods, \\uf8ff#airpodspro, \\uf8ff#ios15, \\uf8ff#ipados15, \\uf8ff#watchos8\\n\\ntoday @ 19h cet.\\n\\nhttps://t.co/9cJ5SW4HcQ https://t.co/y4c1GbTSJU https://t.co/RBBjeVkSud', 'en']]\n",
      "49\n",
      "[['1437786223687372803', datetime.datetime(2021, 9, 14, 14, 32, 3), 'NO RT', 'The iphone 12 is the worst phone I’ve ever had… can’t wait to get the #iPhone13 and spend the next year bitching about how awful it is till the next one comes out 😅', 'en']]\n",
      "50\n"
     ]
    }
   ],
   "source": [
    "var = 0\n",
    "tweets_list = []\n",
    "for tweet in tweets:\n",
    "\n",
    "    if(var == 50):\n",
    "        break\n",
    "    if(tweet.retweeted == False):\n",
    "        rt = \"NO RT\"\n",
    "    else:\n",
    "        rt = \"RT\"\n",
    "    tweets_list.append([tweet.id_str, \n",
    "                tweet.created_at,\n",
    "                rt,\n",
    "                tweet.full_text, \n",
    "                tweet.lang\n",
    "                ])\n",
    "    print(tweets_list)\n",
    "    tweets_list = []\n",
    "    var = var + 1\n",
    "    print(var)"
   ]
  },
  {
   "cell_type": "code",
   "execution_count": 30,
   "id": "ca613379",
   "metadata": {},
   "outputs": [],
   "source": [
    "# open the file in the write mode\n",
    "f = open('testDatasetApple1', 'a')\n",
    "\n",
    "# create the csv writer\n",
    "writer = csv.writer(f)\n",
    "\n",
    "header = ['index', 'Tweet Datetime', 'Tweet Text','tag']\n",
    "writer.writerow(header)\n",
    "\n",
    "csv_row = []\n",
    "ind = 1\n",
    "cleaned_text = \"\"\n",
    "for tweet in tweets:\n",
    "\n",
    "   # if(ind == 10):\n",
    "   #     break\n",
    "    cleaned_text = \" \".join(tweet.full_text.split())\n",
    "    tweets_list.append(str(ind))\n",
    "    tweets_list.append(tweet.created_at)\n",
    "    tweets_list.append(cleaned_text)\n",
    "    tweets_list.append(\"TO ADD\" )\n",
    "\n",
    "    writer.writerow(tweets_list)\n",
    "    tweets_list = []\n",
    "    cleaned_text = \"\"\n",
    "    ind = ind + 1\n",
    "# close the file\n",
    "f.close()"
   ]
  },
  {
   "cell_type": "code",
   "execution_count": 48,
   "id": "bc5a94a9",
   "metadata": {},
   "outputs": [
    {
     "ename": "NameError",
     "evalue": "name 'user' is not defined",
     "output_type": "error",
     "traceback": [
      "\u001b[0;31m---------------------------------------------------------------------------\u001b[0m",
      "\u001b[0;31mNameError\u001b[0m                                 Traceback (most recent call last)",
      "\u001b[0;32m<ipython-input-48-86aaac492017>\u001b[0m in \u001b[0;36m<module>\u001b[0;34m\u001b[0m\n\u001b[0;32m----> 1\u001b[0;31m \u001b[0mprint\u001b[0m\u001b[0;34m(\u001b[0m\u001b[0muser\u001b[0m\u001b[0;34m.\u001b[0m\u001b[0mscreen_name\u001b[0m\u001b[0;34m)\u001b[0m\u001b[0;34m\u001b[0m\u001b[0;34m\u001b[0m\u001b[0m\n\u001b[0m\u001b[1;32m      2\u001b[0m \u001b[0mprint\u001b[0m\u001b[0;34m(\u001b[0m\u001b[0muser\u001b[0m\u001b[0;34m.\u001b[0m\u001b[0mfollowers_count\u001b[0m\u001b[0;34m)\u001b[0m\u001b[0;34m\u001b[0m\u001b[0;34m\u001b[0m\u001b[0m\n\u001b[1;32m      3\u001b[0m \u001b[0;32mfor\u001b[0m \u001b[0mfriend\u001b[0m \u001b[0;32min\u001b[0m \u001b[0muser\u001b[0m\u001b[0;34m.\u001b[0m\u001b[0mfriends\u001b[0m\u001b[0;34m(\u001b[0m\u001b[0;34m)\u001b[0m\u001b[0;34m:\u001b[0m\u001b[0;34m\u001b[0m\u001b[0;34m\u001b[0m\u001b[0m\n\u001b[1;32m      4\u001b[0m     \u001b[0mprint\u001b[0m\u001b[0;34m(\u001b[0m\u001b[0mfriend\u001b[0m\u001b[0;34m.\u001b[0m\u001b[0mscreen_name\u001b[0m\u001b[0;34m)\u001b[0m\u001b[0;34m\u001b[0m\u001b[0;34m\u001b[0m\u001b[0m\n",
      "\u001b[0;31mNameError\u001b[0m: name 'user' is not defined"
     ]
    }
   ],
   "source": [
    "print(user.screen_name)\n",
    "print(user.followers_count)\n",
    "for friend in user.friends():\n",
    "    print(friend.screen_name)"
   ]
  },
  {
   "cell_type": "code",
   "execution_count": 11,
   "id": "b3537168",
   "metadata": {},
   "outputs": [
    {
     "name": "stdout",
     "output_type": "stream",
     "text": [
      "RT @AnupamPKher: Dear @Apple! Visited your store on 5th ave in NY! Impressive! There were watches of International Olympic collection repre…\n",
      "@AnupamPKher @Apple Lets boycott @Apple products then.\n"
     ]
    }
   ],
   "source": [
    "for tweet in tweepy.Cursor(api.search, q='@Apple').items(2):\n",
    "    print(tweet.text)"
   ]
  },
  {
   "cell_type": "code",
   "execution_count": 11,
   "id": "e0d16493",
   "metadata": {
    "collapsed": true
   },
   "outputs": [
    {
     "name": "stdout",
     "output_type": "stream",
     "text": [
      "User(_api=<tweepy.api.API object at 0x7f133bc2af28>, _json={'id': 29416653, 'id_str': '29416653', 'name': 'La Stampa', 'screen_name': 'LaStampa', 'location': 'Torino, Piemonte', 'description': 'Notizie, inchieste, analisi e breaking news. RT dei nostri giornalisti e lettori', 'url': 'https://t.co/sZ2XjjYUhy', 'entities': {'url': {'urls': [{'url': 'https://t.co/sZ2XjjYUhy', 'expanded_url': 'http://www.lastampa.it', 'display_url': 'lastampa.it', 'indices': [0, 23]}]}, 'description': {'urls': []}}, 'protected': False, 'followers_count': 1199566, 'friends_count': 396, 'listed_count': 6786, 'created_at': 'Tue Apr 07 09:31:23 +0000 2009', 'favourites_count': 1685, 'utc_offset': None, 'time_zone': None, 'geo_enabled': True, 'verified': True, 'statuses_count': 511453, 'lang': None, 'status': {'created_at': 'Sat Aug 21 08:14:07 +0000 2021', 'id': 1428993806569926666, 'id_str': '1428993806569926666', 'text': 'La pallavolista Francesca Marcon: “Ho la pericardite e non posso giocare. Il vaccino? Voglio i danni” https://t.co/zmBnclAGUc', 'truncated': False, 'entities': {'hashtags': [], 'symbols': [], 'user_mentions': [], 'urls': [{'url': 'https://t.co/zmBnclAGUc', 'expanded_url': 'http://dlvr.it/S63FFz', 'display_url': 'dlvr.it/S63FFz', 'indices': [102, 125]}]}, 'source': '<a href=\"https://dlvrit.com/\" rel=\"nofollow\">dlvr.it</a>', 'in_reply_to_status_id': None, 'in_reply_to_status_id_str': None, 'in_reply_to_user_id': None, 'in_reply_to_user_id_str': None, 'in_reply_to_screen_name': None, 'geo': None, 'coordinates': None, 'place': None, 'contributors': None, 'is_quote_status': False, 'retweet_count': 0, 'favorite_count': 0, 'favorited': False, 'retweeted': False, 'possibly_sensitive': False, 'lang': 'it'}, 'contributors_enabled': False, 'is_translator': False, 'is_translation_enabled': True, 'profile_background_color': 'FFFFFF', 'profile_background_image_url': 'http://abs.twimg.com/images/themes/theme1/bg.png', 'profile_background_image_url_https': 'https://abs.twimg.com/images/themes/theme1/bg.png', 'profile_background_tile': False, 'profile_image_url': 'http://pbs.twimg.com/profile_images/1394507765956190209/KzTZ_r8t_normal.jpg', 'profile_image_url_https': 'https://pbs.twimg.com/profile_images/1394507765956190209/KzTZ_r8t_normal.jpg', 'profile_banner_url': 'https://pbs.twimg.com/profile_banners/29416653/1516478172', 'profile_link_color': '738EBE', 'profile_sidebar_border_color': 'FFFFFF', 'profile_sidebar_fill_color': 'F7FCFF', 'profile_text_color': '5C5C5C', 'profile_use_background_image': True, 'has_extended_profile': False, 'default_profile': False, 'default_profile_image': False, 'following': True, 'live_following': False, 'follow_request_sent': False, 'notifications': False, 'muting': False, 'blocking': False, 'blocked_by': False, 'translator_type': 'none', 'withheld_in_countries': []}, id=29416653, id_str='29416653', name='La Stampa', screen_name='LaStampa', location='Torino, Piemonte', description='Notizie, inchieste, analisi e breaking news. RT dei nostri giornalisti e lettori', url='https://t.co/sZ2XjjYUhy', entities={'url': {'urls': [{'url': 'https://t.co/sZ2XjjYUhy', 'expanded_url': 'http://www.lastampa.it', 'display_url': 'lastampa.it', 'indices': [0, 23]}]}, 'description': {'urls': []}}, protected=False, followers_count=1199566, friends_count=396, listed_count=6786, created_at=datetime.datetime(2009, 4, 7, 9, 31, 23), favourites_count=1685, utc_offset=None, time_zone=None, geo_enabled=True, verified=True, statuses_count=511453, lang=None, status=Status(_api=<tweepy.api.API object at 0x7f133bc2af28>, _json={'created_at': 'Sat Aug 21 08:14:07 +0000 2021', 'id': 1428993806569926666, 'id_str': '1428993806569926666', 'text': 'La pallavolista Francesca Marcon: “Ho la pericardite e non posso giocare. Il vaccino? Voglio i danni” https://t.co/zmBnclAGUc', 'truncated': False, 'entities': {'hashtags': [], 'symbols': [], 'user_mentions': [], 'urls': [{'url': 'https://t.co/zmBnclAGUc', 'expanded_url': 'http://dlvr.it/S63FFz', 'display_url': 'dlvr.it/S63FFz', 'indices': [102, 125]}]}, 'source': '<a href=\"https://dlvrit.com/\" rel=\"nofollow\">dlvr.it</a>', 'in_reply_to_status_id': None, 'in_reply_to_status_id_str': None, 'in_reply_to_user_id': None, 'in_reply_to_user_id_str': None, 'in_reply_to_screen_name': None, 'geo': None, 'coordinates': None, 'place': None, 'contributors': None, 'is_quote_status': False, 'retweet_count': 0, 'favorite_count': 0, 'favorited': False, 'retweeted': False, 'possibly_sensitive': False, 'lang': 'it'}, created_at=datetime.datetime(2021, 8, 21, 8, 14, 7), id=1428993806569926666, id_str='1428993806569926666', text='La pallavolista Francesca Marcon: “Ho la pericardite e non posso giocare. Il vaccino? Voglio i danni” https://t.co/zmBnclAGUc', truncated=False, entities={'hashtags': [], 'symbols': [], 'user_mentions': [], 'urls': [{'url': 'https://t.co/zmBnclAGUc', 'expanded_url': 'http://dlvr.it/S63FFz', 'display_url': 'dlvr.it/S63FFz', 'indices': [102, 125]}]}, source='dlvr.it', source_url='https://dlvrit.com/', in_reply_to_status_id=None, in_reply_to_status_id_str=None, in_reply_to_user_id=None, in_reply_to_user_id_str=None, in_reply_to_screen_name=None, geo=None, coordinates=None, place=None, contributors=None, is_quote_status=False, retweet_count=0, favorite_count=0, favorited=False, retweeted=False, possibly_sensitive=False, lang='it'), contributors_enabled=False, is_translator=False, is_translation_enabled=True, profile_background_color='FFFFFF', profile_background_image_url='http://abs.twimg.com/images/themes/theme1/bg.png', profile_background_image_url_https='https://abs.twimg.com/images/themes/theme1/bg.png', profile_background_tile=False, profile_image_url='http://pbs.twimg.com/profile_images/1394507765956190209/KzTZ_r8t_normal.jpg', profile_image_url_https='https://pbs.twimg.com/profile_images/1394507765956190209/KzTZ_r8t_normal.jpg', profile_banner_url='https://pbs.twimg.com/profile_banners/29416653/1516478172', profile_link_color='738EBE', profile_sidebar_border_color='FFFFFF', profile_sidebar_fill_color='F7FCFF', profile_text_color='5C5C5C', profile_use_background_image=True, has_extended_profile=False, default_profile=False, default_profile_image=False, following=True, live_following=False, follow_request_sent=False, notifications=False, muting=False, blocking=False, blocked_by=False, translator_type='none', withheld_in_countries=[])\n"
     ]
    }
   ],
   "source": [
    "for friend in tweepy.Cursor(api.friends).items(1):\n",
    "    print(friend)"
   ]
  },
  {
   "cell_type": "code",
   "execution_count": 10,
   "id": "723aa379",
   "metadata": {},
   "outputs": [
    {
     "name": "stdout",
     "output_type": "stream",
     "text": [
      "1425859813909667843 @playboixcarson give them a week, their taste has to develop\n",
      "1425505690634780673 okay confirmed it did\n",
      "1425505236572049420 wait did our font change?\n",
      "1425449155254702090 @kirstenktitus 60 likes IS viral https://t.co/dsrDMhNdsg\n",
      "1422648224893095944 @heyimbenton oops sorry it got lost in the mail check now!\n",
      "1422648107452481539 @REPSLIV elite reply, check DMs\n",
      "1422647788324769795 @TheOchohco yes you can has cup in DMs!\n",
      "1422647057957933062 @cindyqiu8 taking that energy to your DMs\n",
      "1422646944539815941 @Meeliboo brilliance headed to your DMs\n",
      "1422646736288370698 @afiqahizzlin 100% check your DMs\n"
     ]
    }
   ],
   "source": [
    "for status in tweepy.Cursor(api.user_timeline, id='twitter').items(10):\n",
    "    print(status.id,status.text)"
   ]
  },
  {
   "cell_type": "code",
   "execution_count": null,
   "id": "a8aad97c",
   "metadata": {},
   "outputs": [],
   "source": []
  },
  {
   "cell_type": "code",
   "execution_count": 11,
   "id": "9dce111e",
   "metadata": {},
   "outputs": [
    {
     "name": "stdout",
     "output_type": "stream",
     "text": [
      "@afiqahizzlin 100% check your DMs\n"
     ]
    }
   ],
   "source": [
    "status = api.get_status('1422646736288370698',tweet_mode=\"extended\")\n",
    "try:\n",
    "    print(status.retweeted_status.full_text)\n",
    "except AttributeError:\n",
    "    print(status.full_text)"
   ]
  },
  {
   "cell_type": "code",
   "execution_count": 12,
   "id": "c504d584",
   "metadata": {},
   "outputs": [],
   "source": [
    "class MyStreamListener(tweepy.StreamListener):\n",
    "    #override\n",
    "    def on_status(self,status):\n",
    "    # if \"RT\" in status.text :\n",
    "    #    return True\n",
    "        row = \"vuota\"\n",
    "        if hasattr(status, \"retweeted_status\"):\n",
    "            stringa = \"è un retweet \"\n",
    "            return True        \n",
    "        else:\n",
    "#            try:\n",
    "#                row = status.created_at + status.extended_tweet[\"full_text\"]\n",
    "#                print(row)\n",
    "#            except AttributeError:\n",
    "#                row = status.created_at + status.text\n",
    "#                print(row)\n",
    "            if hasattr(status, \"extended_tweet\"):\n",
    "                row = str(status.created_at) + str(status.extended_tweet[\"full_text\"])\n",
    "                print(row)\n",
    "            else:\n",
    "                row = str(status.created_at) + str(status.text)\n",
    "                print(row)\n",
    "        \n",
    "        # open the file in the write mode\n",
    "        f = open('twittersApple', 'a')\n",
    "\n",
    "        # create the csv writer\n",
    "        writer = csv.writer(f)\n",
    "\n",
    "        # write a row to the csv file\n",
    "        writer.writerow(row )\n",
    "\n",
    "        # close the file\n",
    "        f.close()\n",
    "        "
   ]
  },
  {
   "cell_type": "code",
   "execution_count": 13,
   "id": "dfb7e3ad",
   "metadata": {},
   "outputs": [],
   "source": [
    "class MyStreamListener(tweepy.StreamListener):\n",
    "    #override\n",
    "    def on_status(self,status):\n",
    "        row = \"vuota\"\n",
    "        if hasattr(status, \"retweeted_status\"):\n",
    "            stringa = \"è un retweet \"\n",
    "            return True        \n",
    "        else:\n",
    "            if hasattr(status, \"extended_tweet\"):\n",
    "                row = str(status.created_at) + ',' + str(status.extended_tweet[\"full_text\"])\n",
    "                print(row)\n",
    "            else:\n",
    "                row = str(status.created_at) + ',' + str(status.text)\n",
    "                print(row)\n",
    "        \n",
    "        f = open('twittersApple.txt', 'a')\n",
    "        f.write(row + \"\\n\")\n",
    "        f.close()\n",
    "        "
   ]
  },
  {
   "cell_type": "code",
   "execution_count": 11,
   "id": "5f84320c",
   "metadata": {},
   "outputs": [],
   "source": [
    "myStreamListener = MyStreamListener()\n",
    "myStream = tweepy.Stream(auth = api.auth, listener=myStreamListener, tweet_mode=\"extended\")"
   ]
  },
  {
   "cell_type": "code",
   "execution_count": 12,
   "id": "d699d2c3",
   "metadata": {},
   "outputs": [
    {
     "name": "stdout",
     "output_type": "stream",
     "text": [
      "2021-08-30 16:45:04Good but there's always surveillance part\n",
      "2021-08-30 16:45:04iPhone XR Unlocked WITH Warranty for $335!!!! \n",
      "  \n",
      "https://t.co/bQOjyizuU2\n",
      "\n",
      "-all 6 colors in stock!!!!! https://t.co/1WPW2cgLmS\n",
      "2021-08-30 16:45:12The iPhone 13 would be able to make satellite calls without a GSM network https://t.co/PTSdII5Qgp\n",
      "2021-08-30 16:45:12Best offer 👉 https://t.co/QqcRQWO6xD https://t.co/fvJkmPXKiW\n",
      "2021-08-30 16:45:14TAKE MY MONEY\n",
      "2021-08-30 16:45:15@TopFlightTweets this shit funny 😂\n",
      "2021-08-30 16:45:17Check out this iPhone game I'm playing called Soccer Boss https://t.co/IQaYCB3HLC\n",
      "2021-08-30 16:45:18@amrobertson86 @Evos_Belgium @CChallengeSBorg @dadex110 Thanks Alex, I tried downloading that earlier but was unable to download on iPhone or iPad- any suggestions?\n",
      "2021-08-30 16:45:18i can't believe this was filmed on an iphone !(@*#)(@!*$ the quality is crazy good :O\n",
      "2021-08-30 16:45:20When the new iphone come out? Its time to retire this 11 pro max 😂\n",
      "2021-08-30 16:45:24I NEED DIS NOW\n",
      "2021-08-30 16:45:30Just make Apple Music for Christ sake\n",
      "2021-08-30 16:45:31@AndrewNBC12 Don't worry, there are those that are saying a 5th grader with an iPhone could have predicted this one. They don't want to give @NHC_Atlantic any credit.\n",
      "2021-08-30 16:45:32I Pulled my iPhone out in Arkansas and niggas thought I was a wizard\n",
      "2021-08-30 16:45:33@aaksshii There might be some stock remaining. It is the iPhone SE most basic iPhone now.\n",
      "2021-08-30 16:45:36Did….didn’t the iPhone 12 just come out?? Why is there a new one???\n",
      "2021-08-30 16:45:38This will be a game changer 😊\n",
      "2021-08-30 16:45:38Editing messages on @telegram app in @Apple ‘s iOS platform is really difficult. I can’t do anything. Please fix this. Screenshot was taken on iPhone 8 https://t.co/bkO0XSgTrk\n",
      "2021-08-30 16:45:44@Thegoatknd literally, it looks like it was taken on an iphone la mar deserves a lashing for doing this to abel…😭😭😭\n",
      "2021-08-30 16:45:49@JoeyNFalcon @techdroider I love my Pixel but I'm a multi OS user have iPhone 12 also\n",
      "2021-08-30 16:45:49Hold on hold on 👀👀\n",
      "2021-08-30 16:45:50I've always wanted to crank call the ISS.\n",
      "2021-08-30 16:45:58@tejasghongadi Whatever it does, there is nothing like an iPhone. 😜\n",
      "2021-08-30 16:45:59@a_fresh_shinobi Bought an new iPhone?\n",
      "2021-08-30 16:46:00@elaineeaguilar Twitter for iPhone.\n",
      "2021-08-30 16:46:00@thecyberstack @theapplehub Do you want this technology in the next iPhone? Check out Weebl and vote on our daily poll!\n",
      "\n",
      "https://t.co/caMGGbGL0y\n",
      "2021-08-30 16:46:03I'd KILL for this.\n",
      "2021-08-30 16:46:04@theapplehub Sad that I’m only on iPhone at this point for the blue bubbles 😦\n",
      "2021-08-30 16:46:05*iPhone 8+\n",
      "2021-08-30 16:46:06@xeetechcare @SamsungMobileUS @SamsungPakistan Bro since you try Instagram between Galaxy and iPhone, have you ever tried Instagram from GalaxyStore??? Because whenever Samsung says we have worked together with some company, I assume that those apps are released in Galaxy Store &amp; Not Play Store, what say???\n",
      "2021-08-30 16:46:08I dropped my iPhone and literally taped it together with duct tape. Instead of reparing it, I rather spend my money on crypto or digital ghosts. Is this normal?\n",
      "2021-08-30 16:46:11Apple Is Expected to Release the iPhone 13 and AirPods 3 This September - https://t.co/mypLBrPbLQ https://t.co/lfBBryMF4j\n",
      "2021-08-30 16:46:15I will not consider buying an iPhone 13 unless it can charge in one minute\n",
      "2021-08-30 16:46:15My iPhone users, like this tweet lol\n",
      "I’m tryna see somethin 🤔👀💦#facetime #horny\n",
      "2021-08-30 16:46:16might just get an iPhone SE 2nd gen, i'm a granny and phones w/o a home button irk me\n",
      "2021-08-30 16:46:18A bbl is the new iPhone\n",
      "2021-08-30 16:46:25@DCBMEP 80% EU drivers = Polish causing accidents in UK inc. Tomasz Kroker in 2016 A34 horror accident involving many children as searching iPhone for EU music - but @thesundaytimes @dsmitheconomics don't mention this &amp; post-2020 IR35 rules as beforehand dividend payments went to Poland!\n",
      "2021-08-30 16:46:26i have no idea who you are but i refuse to communicate with you\n",
      "2021-08-30 16:46:28@raineworks @JoeyNFalcon @techdroider Iphone users think their platform is superior. It's some sort of elitist mentality\n",
      "2021-08-30 16:46:29Word #bancodelarepública iPhone Wallet https://t.co/4AegRnOijq #iphone #wallet #redbubble https://t.co/jYbG3ZWRFo\n",
      "2021-08-30 16:46:37If dis tweet blows up imma just copy and paste popular tweets all day long 🤑\n",
      "2021-08-30 16:46:37can they release the iPhone 13 already? i’m ready to upgrade.\n",
      "2021-08-30 16:46:41damn you, iPhone 13 and Apple. I’ll have to think of a new excuse for not answering texts now ffs. 😒 https://t.co/0j2z1qIDL8\n",
      "2021-08-30 16:46:43Til this mfkr crumble to bits\n",
      "2021-08-30 16:46:47@i_am_daizy Bakuwe iPhone yo dear\n",
      "2021-08-30 16:46:49shidddd mine do this TODAY\n",
      "2021-08-30 16:46:50Snapchat Camera: You look gorgeous King 🥺✨\n",
      "\n",
      "iPhone Camera: Warp Bitch 😐.. https://t.co/QXZLD5r8TE\n",
      "2021-08-30 16:46:52Navies worldwide are going to have a serious OPSEC problem.\n",
      "2021-08-30 16:46:54#climate BETA RACING GASGAS Phone Case For iphone 12 11 Pro Max Mini XS 8 7 6 6S Plus X SE 2020 XR Candy green Silicone cover https://t.co/ZLbETQ5NAv https://t.co/7O6iKMykkY\n",
      "2021-08-30 16:46:55ELON MUSK BOWEL MOVEMENT MINESTRONE APEX LEGENDS COOPERATIVE TRAVEL AZURE HUNTY JUST WENT TO SALADS PAC-MAN? SPONGEBOB FACEBOOK FARTED DOOFUS COW PEE BROTH SUPREME. BULL ENERGY TURKEY FART MEIN WITH HERBS. DAFT PUNK HEAVYCOIN SO PEOPLE POOP TURD PLAY A SIGNIFICANT PEW IPHONE\n",
      "2021-08-30 16:46:55😂 😂 😂 😂 😂 😂 😂\n",
      "Pharoah let my people go\n",
      "2021-08-30 16:46:57LMFAOOOOOO\n",
      "2021-08-30 16:46:58i still have my iphone 8 and it hasn’t failed me yet thank god\n",
      "2021-08-30 16:46:58If you're emperiencing any problems in your trust wallet kindly file a complaint to there term for assistant through this link\n",
      "https://t.co/yH4qbP0ZBD\n"
     ]
    },
    {
     "ename": "KeyboardInterrupt",
     "evalue": "",
     "output_type": "error",
     "traceback": [
      "\u001b[0;31m---------------------------------------------------------------------------\u001b[0m",
      "\u001b[0;31mKeyboardInterrupt\u001b[0m                         Traceback (most recent call last)",
      "\u001b[0;32m<ipython-input-12-228fa583d7d3>\u001b[0m in \u001b[0;36m<module>\u001b[0;34m\u001b[0m\n\u001b[0;32m----> 1\u001b[0;31m \u001b[0mmyStream\u001b[0m\u001b[0;34m.\u001b[0m\u001b[0mfilter\u001b[0m\u001b[0;34m(\u001b[0m\u001b[0mtrack\u001b[0m\u001b[0;34m=\u001b[0m\u001b[0;34m[\u001b[0m\u001b[0;34m'iPhone'\u001b[0m\u001b[0;34m]\u001b[0m\u001b[0;34m,\u001b[0m\u001b[0mlanguages\u001b[0m\u001b[0;34m=\u001b[0m\u001b[0;34m[\u001b[0m\u001b[0;34m\"en\"\u001b[0m\u001b[0;34m]\u001b[0m\u001b[0;34m)\u001b[0m\u001b[0;34m\u001b[0m\u001b[0;34m\u001b[0m\u001b[0m\n\u001b[0m\u001b[1;32m      2\u001b[0m \u001b[0;31m#myStream.filter(track=['python'])\u001b[0m\u001b[0;34m\u001b[0m\u001b[0;34m\u001b[0m\u001b[0;34m\u001b[0m\u001b[0m\n",
      "\u001b[0;32m~/anaconda3/envs/Ambiente-36/lib/python3.6/site-packages/tweepy/streaming.py\u001b[0m in \u001b[0;36mfilter\u001b[0;34m(self, follow, track, is_async, locations, stall_warnings, languages, encoding, filter_level)\u001b[0m\n\u001b[1;32m    472\u001b[0m             \u001b[0mself\u001b[0m\u001b[0;34m.\u001b[0m\u001b[0mbody\u001b[0m\u001b[0;34m[\u001b[0m\u001b[0;34m'filter_level'\u001b[0m\u001b[0;34m]\u001b[0m \u001b[0;34m=\u001b[0m \u001b[0mfilter_level\u001b[0m\u001b[0;34m.\u001b[0m\u001b[0mencode\u001b[0m\u001b[0;34m(\u001b[0m\u001b[0mencoding\u001b[0m\u001b[0;34m)\u001b[0m\u001b[0;34m\u001b[0m\u001b[0;34m\u001b[0m\u001b[0m\n\u001b[1;32m    473\u001b[0m         \u001b[0mself\u001b[0m\u001b[0;34m.\u001b[0m\u001b[0msession\u001b[0m\u001b[0;34m.\u001b[0m\u001b[0mparams\u001b[0m \u001b[0;34m=\u001b[0m \u001b[0;34m{\u001b[0m\u001b[0;34m'delimited'\u001b[0m\u001b[0;34m:\u001b[0m \u001b[0;34m'length'\u001b[0m\u001b[0;34m}\u001b[0m\u001b[0;34m\u001b[0m\u001b[0;34m\u001b[0m\u001b[0m\n\u001b[0;32m--> 474\u001b[0;31m         \u001b[0mself\u001b[0m\u001b[0;34m.\u001b[0m\u001b[0m_start\u001b[0m\u001b[0;34m(\u001b[0m\u001b[0mis_async\u001b[0m\u001b[0;34m)\u001b[0m\u001b[0;34m\u001b[0m\u001b[0;34m\u001b[0m\u001b[0m\n\u001b[0m\u001b[1;32m    475\u001b[0m \u001b[0;34m\u001b[0m\u001b[0m\n\u001b[1;32m    476\u001b[0m     def sitestream(self, follow, stall_warnings=False,\n",
      "\u001b[0;32m~/anaconda3/envs/Ambiente-36/lib/python3.6/site-packages/tweepy/streaming.py\u001b[0m in \u001b[0;36m_start\u001b[0;34m(self, is_async)\u001b[0m\n\u001b[1;32m    387\u001b[0m             \u001b[0mself\u001b[0m\u001b[0;34m.\u001b[0m\u001b[0m_thread\u001b[0m\u001b[0;34m.\u001b[0m\u001b[0mstart\u001b[0m\u001b[0;34m(\u001b[0m\u001b[0;34m)\u001b[0m\u001b[0;34m\u001b[0m\u001b[0;34m\u001b[0m\u001b[0m\n\u001b[1;32m    388\u001b[0m         \u001b[0;32melse\u001b[0m\u001b[0;34m:\u001b[0m\u001b[0;34m\u001b[0m\u001b[0;34m\u001b[0m\u001b[0m\n\u001b[0;32m--> 389\u001b[0;31m             \u001b[0mself\u001b[0m\u001b[0;34m.\u001b[0m\u001b[0m_run\u001b[0m\u001b[0;34m(\u001b[0m\u001b[0;34m)\u001b[0m\u001b[0;34m\u001b[0m\u001b[0;34m\u001b[0m\u001b[0m\n\u001b[0m\u001b[1;32m    390\u001b[0m \u001b[0;34m\u001b[0m\u001b[0m\n\u001b[1;32m    391\u001b[0m     \u001b[0;32mdef\u001b[0m \u001b[0mon_closed\u001b[0m\u001b[0;34m(\u001b[0m\u001b[0mself\u001b[0m\u001b[0;34m,\u001b[0m \u001b[0mresp\u001b[0m\u001b[0;34m)\u001b[0m\u001b[0;34m:\u001b[0m\u001b[0;34m\u001b[0m\u001b[0;34m\u001b[0m\u001b[0m\n",
      "\u001b[0;32m~/anaconda3/envs/Ambiente-36/lib/python3.6/site-packages/tweepy/streaming.py\u001b[0m in \u001b[0;36m_run\u001b[0;34m(self)\u001b[0m\n\u001b[1;32m    287\u001b[0m                     \u001b[0mself\u001b[0m\u001b[0;34m.\u001b[0m\u001b[0msnooze_time\u001b[0m \u001b[0;34m=\u001b[0m \u001b[0mself\u001b[0m\u001b[0;34m.\u001b[0m\u001b[0msnooze_time_step\u001b[0m\u001b[0;34m\u001b[0m\u001b[0;34m\u001b[0m\u001b[0m\n\u001b[1;32m    288\u001b[0m                     \u001b[0mself\u001b[0m\u001b[0;34m.\u001b[0m\u001b[0mlistener\u001b[0m\u001b[0;34m.\u001b[0m\u001b[0mon_connect\u001b[0m\u001b[0;34m(\u001b[0m\u001b[0;34m)\u001b[0m\u001b[0;34m\u001b[0m\u001b[0;34m\u001b[0m\u001b[0m\n\u001b[0;32m--> 289\u001b[0;31m                     \u001b[0mself\u001b[0m\u001b[0;34m.\u001b[0m\u001b[0m_read_loop\u001b[0m\u001b[0;34m(\u001b[0m\u001b[0mresp\u001b[0m\u001b[0;34m)\u001b[0m\u001b[0;34m\u001b[0m\u001b[0;34m\u001b[0m\u001b[0m\n\u001b[0m\u001b[1;32m    290\u001b[0m             \u001b[0;32mexcept\u001b[0m \u001b[0;34m(\u001b[0m\u001b[0mTimeout\u001b[0m\u001b[0;34m,\u001b[0m \u001b[0mssl\u001b[0m\u001b[0;34m.\u001b[0m\u001b[0mSSLError\u001b[0m\u001b[0;34m)\u001b[0m \u001b[0;32mas\u001b[0m \u001b[0mexc\u001b[0m\u001b[0;34m:\u001b[0m\u001b[0;34m\u001b[0m\u001b[0;34m\u001b[0m\u001b[0m\n\u001b[1;32m    291\u001b[0m                 \u001b[0;31m# This is still necessary, as a SSLError can actually be\u001b[0m\u001b[0;34m\u001b[0m\u001b[0;34m\u001b[0m\u001b[0;34m\u001b[0m\u001b[0m\n",
      "\u001b[0;32m~/anaconda3/envs/Ambiente-36/lib/python3.6/site-packages/tweepy/streaming.py\u001b[0m in \u001b[0;36m_read_loop\u001b[0;34m(self, resp)\u001b[0m\n\u001b[1;32m    337\u001b[0m             \u001b[0mlength\u001b[0m \u001b[0;34m=\u001b[0m \u001b[0;36m0\u001b[0m\u001b[0;34m\u001b[0m\u001b[0;34m\u001b[0m\u001b[0m\n\u001b[1;32m    338\u001b[0m             \u001b[0;32mwhile\u001b[0m \u001b[0;32mnot\u001b[0m \u001b[0mresp\u001b[0m\u001b[0;34m.\u001b[0m\u001b[0mraw\u001b[0m\u001b[0;34m.\u001b[0m\u001b[0mclosed\u001b[0m\u001b[0;34m:\u001b[0m\u001b[0;34m\u001b[0m\u001b[0;34m\u001b[0m\u001b[0m\n\u001b[0;32m--> 339\u001b[0;31m                 \u001b[0mline\u001b[0m \u001b[0;34m=\u001b[0m \u001b[0mbuf\u001b[0m\u001b[0;34m.\u001b[0m\u001b[0mread_line\u001b[0m\u001b[0;34m(\u001b[0m\u001b[0;34m)\u001b[0m\u001b[0;34m\u001b[0m\u001b[0;34m\u001b[0m\u001b[0m\n\u001b[0m\u001b[1;32m    340\u001b[0m                 \u001b[0mstripped_line\u001b[0m \u001b[0;34m=\u001b[0m \u001b[0mline\u001b[0m\u001b[0;34m.\u001b[0m\u001b[0mstrip\u001b[0m\u001b[0;34m(\u001b[0m\u001b[0;34m)\u001b[0m \u001b[0;32mif\u001b[0m \u001b[0mline\u001b[0m \u001b[0;32melse\u001b[0m \u001b[0mline\u001b[0m \u001b[0;31m# line is sometimes None so we need to check here\u001b[0m\u001b[0;34m\u001b[0m\u001b[0;34m\u001b[0m\u001b[0m\n\u001b[1;32m    341\u001b[0m                 \u001b[0;32mif\u001b[0m \u001b[0;32mnot\u001b[0m \u001b[0mstripped_line\u001b[0m\u001b[0;34m:\u001b[0m\u001b[0;34m\u001b[0m\u001b[0;34m\u001b[0m\u001b[0m\n",
      "\u001b[0;32m~/anaconda3/envs/Ambiente-36/lib/python3.6/site-packages/tweepy/streaming.py\u001b[0m in \u001b[0;36mread_line\u001b[0;34m(self, sep)\u001b[0m\n\u001b[1;32m    198\u001b[0m             \u001b[0;32melse\u001b[0m\u001b[0;34m:\u001b[0m\u001b[0;34m\u001b[0m\u001b[0;34m\u001b[0m\u001b[0m\n\u001b[1;32m    199\u001b[0m                 \u001b[0mstart\u001b[0m \u001b[0;34m=\u001b[0m \u001b[0mlen\u001b[0m\u001b[0;34m(\u001b[0m\u001b[0mself\u001b[0m\u001b[0;34m.\u001b[0m\u001b[0m_buffer\u001b[0m\u001b[0;34m)\u001b[0m\u001b[0;34m\u001b[0m\u001b[0;34m\u001b[0m\u001b[0m\n\u001b[0;32m--> 200\u001b[0;31m             \u001b[0mself\u001b[0m\u001b[0;34m.\u001b[0m\u001b[0m_buffer\u001b[0m \u001b[0;34m+=\u001b[0m \u001b[0mself\u001b[0m\u001b[0;34m.\u001b[0m\u001b[0m_stream\u001b[0m\u001b[0;34m.\u001b[0m\u001b[0mread\u001b[0m\u001b[0;34m(\u001b[0m\u001b[0mself\u001b[0m\u001b[0;34m.\u001b[0m\u001b[0m_chunk_size\u001b[0m\u001b[0;34m)\u001b[0m\u001b[0;34m\u001b[0m\u001b[0;34m\u001b[0m\u001b[0m\n\u001b[0m\u001b[1;32m    201\u001b[0m         \u001b[0;32mreturn\u001b[0m \u001b[0msix\u001b[0m\u001b[0;34m.\u001b[0m\u001b[0mb\u001b[0m\u001b[0;34m(\u001b[0m\u001b[0;34m''\u001b[0m\u001b[0;34m)\u001b[0m\u001b[0;34m\u001b[0m\u001b[0;34m\u001b[0m\u001b[0m\n\u001b[1;32m    202\u001b[0m \u001b[0;34m\u001b[0m\u001b[0m\n",
      "\u001b[0;32m~/anaconda3/envs/Ambiente-36/lib/python3.6/site-packages/urllib3/response.py\u001b[0m in \u001b[0;36mread\u001b[0;34m(self, amt, decode_content, cache_content)\u001b[0m\n\u001b[1;32m    517\u001b[0m             \u001b[0;32melse\u001b[0m\u001b[0;34m:\u001b[0m\u001b[0;34m\u001b[0m\u001b[0;34m\u001b[0m\u001b[0m\n\u001b[1;32m    518\u001b[0m                 \u001b[0mcache_content\u001b[0m \u001b[0;34m=\u001b[0m \u001b[0;32mFalse\u001b[0m\u001b[0;34m\u001b[0m\u001b[0;34m\u001b[0m\u001b[0m\n\u001b[0;32m--> 519\u001b[0;31m                 \u001b[0mdata\u001b[0m \u001b[0;34m=\u001b[0m \u001b[0mself\u001b[0m\u001b[0;34m.\u001b[0m\u001b[0m_fp\u001b[0m\u001b[0;34m.\u001b[0m\u001b[0mread\u001b[0m\u001b[0;34m(\u001b[0m\u001b[0mamt\u001b[0m\u001b[0;34m)\u001b[0m \u001b[0;32mif\u001b[0m \u001b[0;32mnot\u001b[0m \u001b[0mfp_closed\u001b[0m \u001b[0;32melse\u001b[0m \u001b[0;34mb\"\"\u001b[0m\u001b[0;34m\u001b[0m\u001b[0;34m\u001b[0m\u001b[0m\n\u001b[0m\u001b[1;32m    520\u001b[0m                 if (\n\u001b[1;32m    521\u001b[0m                     \u001b[0mamt\u001b[0m \u001b[0;34m!=\u001b[0m \u001b[0;36m0\u001b[0m \u001b[0;32mand\u001b[0m \u001b[0;32mnot\u001b[0m \u001b[0mdata\u001b[0m\u001b[0;34m\u001b[0m\u001b[0;34m\u001b[0m\u001b[0m\n",
      "\u001b[0;32m~/anaconda3/envs/Ambiente-36/lib/python3.6/http/client.py\u001b[0m in \u001b[0;36mread\u001b[0;34m(self, amt)\u001b[0m\n\u001b[1;32m    461\u001b[0m             \u001b[0;31m# Amount is given, implement using readinto\u001b[0m\u001b[0;34m\u001b[0m\u001b[0;34m\u001b[0m\u001b[0;34m\u001b[0m\u001b[0m\n\u001b[1;32m    462\u001b[0m             \u001b[0mb\u001b[0m \u001b[0;34m=\u001b[0m \u001b[0mbytearray\u001b[0m\u001b[0;34m(\u001b[0m\u001b[0mamt\u001b[0m\u001b[0;34m)\u001b[0m\u001b[0;34m\u001b[0m\u001b[0;34m\u001b[0m\u001b[0m\n\u001b[0;32m--> 463\u001b[0;31m             \u001b[0mn\u001b[0m \u001b[0;34m=\u001b[0m \u001b[0mself\u001b[0m\u001b[0;34m.\u001b[0m\u001b[0mreadinto\u001b[0m\u001b[0;34m(\u001b[0m\u001b[0mb\u001b[0m\u001b[0;34m)\u001b[0m\u001b[0;34m\u001b[0m\u001b[0;34m\u001b[0m\u001b[0m\n\u001b[0m\u001b[1;32m    464\u001b[0m             \u001b[0;32mreturn\u001b[0m \u001b[0mmemoryview\u001b[0m\u001b[0;34m(\u001b[0m\u001b[0mb\u001b[0m\u001b[0;34m)\u001b[0m\u001b[0;34m[\u001b[0m\u001b[0;34m:\u001b[0m\u001b[0mn\u001b[0m\u001b[0;34m]\u001b[0m\u001b[0;34m.\u001b[0m\u001b[0mtobytes\u001b[0m\u001b[0;34m(\u001b[0m\u001b[0;34m)\u001b[0m\u001b[0;34m\u001b[0m\u001b[0;34m\u001b[0m\u001b[0m\n\u001b[1;32m    465\u001b[0m         \u001b[0;32melse\u001b[0m\u001b[0;34m:\u001b[0m\u001b[0;34m\u001b[0m\u001b[0;34m\u001b[0m\u001b[0m\n",
      "\u001b[0;32m~/anaconda3/envs/Ambiente-36/lib/python3.6/http/client.py\u001b[0m in \u001b[0;36mreadinto\u001b[0;34m(self, b)\u001b[0m\n\u001b[1;32m    495\u001b[0m \u001b[0;34m\u001b[0m\u001b[0m\n\u001b[1;32m    496\u001b[0m         \u001b[0;32mif\u001b[0m \u001b[0mself\u001b[0m\u001b[0;34m.\u001b[0m\u001b[0mchunked\u001b[0m\u001b[0;34m:\u001b[0m\u001b[0;34m\u001b[0m\u001b[0;34m\u001b[0m\u001b[0m\n\u001b[0;32m--> 497\u001b[0;31m             \u001b[0;32mreturn\u001b[0m \u001b[0mself\u001b[0m\u001b[0;34m.\u001b[0m\u001b[0m_readinto_chunked\u001b[0m\u001b[0;34m(\u001b[0m\u001b[0mb\u001b[0m\u001b[0;34m)\u001b[0m\u001b[0;34m\u001b[0m\u001b[0;34m\u001b[0m\u001b[0m\n\u001b[0m\u001b[1;32m    498\u001b[0m \u001b[0;34m\u001b[0m\u001b[0m\n\u001b[1;32m    499\u001b[0m         \u001b[0;32mif\u001b[0m \u001b[0mself\u001b[0m\u001b[0;34m.\u001b[0m\u001b[0mlength\u001b[0m \u001b[0;32mis\u001b[0m \u001b[0;32mnot\u001b[0m \u001b[0;32mNone\u001b[0m\u001b[0;34m:\u001b[0m\u001b[0;34m\u001b[0m\u001b[0;34m\u001b[0m\u001b[0m\n",
      "\u001b[0;32m~/anaconda3/envs/Ambiente-36/lib/python3.6/http/client.py\u001b[0m in \u001b[0;36m_readinto_chunked\u001b[0;34m(self, b)\u001b[0m\n\u001b[1;32m    590\u001b[0m         \u001b[0;32mtry\u001b[0m\u001b[0;34m:\u001b[0m\u001b[0;34m\u001b[0m\u001b[0;34m\u001b[0m\u001b[0m\n\u001b[1;32m    591\u001b[0m             \u001b[0;32mwhile\u001b[0m \u001b[0;32mTrue\u001b[0m\u001b[0;34m:\u001b[0m\u001b[0;34m\u001b[0m\u001b[0;34m\u001b[0m\u001b[0m\n\u001b[0;32m--> 592\u001b[0;31m                 \u001b[0mchunk_left\u001b[0m \u001b[0;34m=\u001b[0m \u001b[0mself\u001b[0m\u001b[0;34m.\u001b[0m\u001b[0m_get_chunk_left\u001b[0m\u001b[0;34m(\u001b[0m\u001b[0;34m)\u001b[0m\u001b[0;34m\u001b[0m\u001b[0;34m\u001b[0m\u001b[0m\n\u001b[0m\u001b[1;32m    593\u001b[0m                 \u001b[0;32mif\u001b[0m \u001b[0mchunk_left\u001b[0m \u001b[0;32mis\u001b[0m \u001b[0;32mNone\u001b[0m\u001b[0;34m:\u001b[0m\u001b[0;34m\u001b[0m\u001b[0;34m\u001b[0m\u001b[0m\n\u001b[1;32m    594\u001b[0m                     \u001b[0;32mreturn\u001b[0m \u001b[0mtotal_bytes\u001b[0m\u001b[0;34m\u001b[0m\u001b[0;34m\u001b[0m\u001b[0m\n",
      "\u001b[0;32m~/anaconda3/envs/Ambiente-36/lib/python3.6/http/client.py\u001b[0m in \u001b[0;36m_get_chunk_left\u001b[0;34m(self)\u001b[0m\n\u001b[1;32m    558\u001b[0m                 \u001b[0mself\u001b[0m\u001b[0;34m.\u001b[0m\u001b[0m_safe_read\u001b[0m\u001b[0;34m(\u001b[0m\u001b[0;36m2\u001b[0m\u001b[0;34m)\u001b[0m  \u001b[0;31m# toss the CRLF at the end of the chunk\u001b[0m\u001b[0;34m\u001b[0m\u001b[0;34m\u001b[0m\u001b[0m\n\u001b[1;32m    559\u001b[0m             \u001b[0;32mtry\u001b[0m\u001b[0;34m:\u001b[0m\u001b[0;34m\u001b[0m\u001b[0;34m\u001b[0m\u001b[0m\n\u001b[0;32m--> 560\u001b[0;31m                 \u001b[0mchunk_left\u001b[0m \u001b[0;34m=\u001b[0m \u001b[0mself\u001b[0m\u001b[0;34m.\u001b[0m\u001b[0m_read_next_chunk_size\u001b[0m\u001b[0;34m(\u001b[0m\u001b[0;34m)\u001b[0m\u001b[0;34m\u001b[0m\u001b[0;34m\u001b[0m\u001b[0m\n\u001b[0m\u001b[1;32m    561\u001b[0m             \u001b[0;32mexcept\u001b[0m \u001b[0mValueError\u001b[0m\u001b[0;34m:\u001b[0m\u001b[0;34m\u001b[0m\u001b[0;34m\u001b[0m\u001b[0m\n\u001b[1;32m    562\u001b[0m                 \u001b[0;32mraise\u001b[0m \u001b[0mIncompleteRead\u001b[0m\u001b[0;34m(\u001b[0m\u001b[0;34mb''\u001b[0m\u001b[0;34m)\u001b[0m\u001b[0;34m\u001b[0m\u001b[0;34m\u001b[0m\u001b[0m\n",
      "\u001b[0;32m~/anaconda3/envs/Ambiente-36/lib/python3.6/http/client.py\u001b[0m in \u001b[0;36m_read_next_chunk_size\u001b[0;34m(self)\u001b[0m\n\u001b[1;32m    518\u001b[0m     \u001b[0;32mdef\u001b[0m \u001b[0m_read_next_chunk_size\u001b[0m\u001b[0;34m(\u001b[0m\u001b[0mself\u001b[0m\u001b[0;34m)\u001b[0m\u001b[0;34m:\u001b[0m\u001b[0;34m\u001b[0m\u001b[0;34m\u001b[0m\u001b[0m\n\u001b[1;32m    519\u001b[0m         \u001b[0;31m# Read the next chunk size from the file\u001b[0m\u001b[0;34m\u001b[0m\u001b[0;34m\u001b[0m\u001b[0;34m\u001b[0m\u001b[0m\n\u001b[0;32m--> 520\u001b[0;31m         \u001b[0mline\u001b[0m \u001b[0;34m=\u001b[0m \u001b[0mself\u001b[0m\u001b[0;34m.\u001b[0m\u001b[0mfp\u001b[0m\u001b[0;34m.\u001b[0m\u001b[0mreadline\u001b[0m\u001b[0;34m(\u001b[0m\u001b[0m_MAXLINE\u001b[0m \u001b[0;34m+\u001b[0m \u001b[0;36m1\u001b[0m\u001b[0;34m)\u001b[0m\u001b[0;34m\u001b[0m\u001b[0;34m\u001b[0m\u001b[0m\n\u001b[0m\u001b[1;32m    521\u001b[0m         \u001b[0;32mif\u001b[0m \u001b[0mlen\u001b[0m\u001b[0;34m(\u001b[0m\u001b[0mline\u001b[0m\u001b[0;34m)\u001b[0m \u001b[0;34m>\u001b[0m \u001b[0m_MAXLINE\u001b[0m\u001b[0;34m:\u001b[0m\u001b[0;34m\u001b[0m\u001b[0;34m\u001b[0m\u001b[0m\n\u001b[1;32m    522\u001b[0m             \u001b[0;32mraise\u001b[0m \u001b[0mLineTooLong\u001b[0m\u001b[0;34m(\u001b[0m\u001b[0;34m\"chunk size\"\u001b[0m\u001b[0;34m)\u001b[0m\u001b[0;34m\u001b[0m\u001b[0;34m\u001b[0m\u001b[0m\n",
      "\u001b[0;32m~/anaconda3/envs/Ambiente-36/lib/python3.6/socket.py\u001b[0m in \u001b[0;36mreadinto\u001b[0;34m(self, b)\u001b[0m\n\u001b[1;32m    584\u001b[0m         \u001b[0;32mwhile\u001b[0m \u001b[0;32mTrue\u001b[0m\u001b[0;34m:\u001b[0m\u001b[0;34m\u001b[0m\u001b[0;34m\u001b[0m\u001b[0m\n\u001b[1;32m    585\u001b[0m             \u001b[0;32mtry\u001b[0m\u001b[0;34m:\u001b[0m\u001b[0;34m\u001b[0m\u001b[0;34m\u001b[0m\u001b[0m\n\u001b[0;32m--> 586\u001b[0;31m                 \u001b[0;32mreturn\u001b[0m \u001b[0mself\u001b[0m\u001b[0;34m.\u001b[0m\u001b[0m_sock\u001b[0m\u001b[0;34m.\u001b[0m\u001b[0mrecv_into\u001b[0m\u001b[0;34m(\u001b[0m\u001b[0mb\u001b[0m\u001b[0;34m)\u001b[0m\u001b[0;34m\u001b[0m\u001b[0;34m\u001b[0m\u001b[0m\n\u001b[0m\u001b[1;32m    587\u001b[0m             \u001b[0;32mexcept\u001b[0m \u001b[0mtimeout\u001b[0m\u001b[0;34m:\u001b[0m\u001b[0;34m\u001b[0m\u001b[0;34m\u001b[0m\u001b[0m\n\u001b[1;32m    588\u001b[0m                 \u001b[0mself\u001b[0m\u001b[0;34m.\u001b[0m\u001b[0m_timeout_occurred\u001b[0m \u001b[0;34m=\u001b[0m \u001b[0;32mTrue\u001b[0m\u001b[0;34m\u001b[0m\u001b[0;34m\u001b[0m\u001b[0m\n",
      "\u001b[0;32m~/anaconda3/envs/Ambiente-36/lib/python3.6/ssl.py\u001b[0m in \u001b[0;36mrecv_into\u001b[0;34m(self, buffer, nbytes, flags)\u001b[0m\n\u001b[1;32m   1010\u001b[0m                   \u001b[0;34m\"non-zero flags not allowed in calls to recv_into() on %s\"\u001b[0m \u001b[0;34m%\u001b[0m\u001b[0;34m\u001b[0m\u001b[0;34m\u001b[0m\u001b[0m\n\u001b[1;32m   1011\u001b[0m                   self.__class__)\n\u001b[0;32m-> 1012\u001b[0;31m             \u001b[0;32mreturn\u001b[0m \u001b[0mself\u001b[0m\u001b[0;34m.\u001b[0m\u001b[0mread\u001b[0m\u001b[0;34m(\u001b[0m\u001b[0mnbytes\u001b[0m\u001b[0;34m,\u001b[0m \u001b[0mbuffer\u001b[0m\u001b[0;34m)\u001b[0m\u001b[0;34m\u001b[0m\u001b[0;34m\u001b[0m\u001b[0m\n\u001b[0m\u001b[1;32m   1013\u001b[0m         \u001b[0;32melse\u001b[0m\u001b[0;34m:\u001b[0m\u001b[0;34m\u001b[0m\u001b[0;34m\u001b[0m\u001b[0m\n\u001b[1;32m   1014\u001b[0m             \u001b[0;32mreturn\u001b[0m \u001b[0msocket\u001b[0m\u001b[0;34m.\u001b[0m\u001b[0mrecv_into\u001b[0m\u001b[0;34m(\u001b[0m\u001b[0mself\u001b[0m\u001b[0;34m,\u001b[0m \u001b[0mbuffer\u001b[0m\u001b[0;34m,\u001b[0m \u001b[0mnbytes\u001b[0m\u001b[0;34m,\u001b[0m \u001b[0mflags\u001b[0m\u001b[0;34m)\u001b[0m\u001b[0;34m\u001b[0m\u001b[0;34m\u001b[0m\u001b[0m\n",
      "\u001b[0;32m~/anaconda3/envs/Ambiente-36/lib/python3.6/ssl.py\u001b[0m in \u001b[0;36mread\u001b[0;34m(self, len, buffer)\u001b[0m\n\u001b[1;32m    872\u001b[0m             \u001b[0;32mraise\u001b[0m \u001b[0mValueError\u001b[0m\u001b[0;34m(\u001b[0m\u001b[0;34m\"Read on closed or unwrapped SSL socket.\"\u001b[0m\u001b[0;34m)\u001b[0m\u001b[0;34m\u001b[0m\u001b[0;34m\u001b[0m\u001b[0m\n\u001b[1;32m    873\u001b[0m         \u001b[0;32mtry\u001b[0m\u001b[0;34m:\u001b[0m\u001b[0;34m\u001b[0m\u001b[0;34m\u001b[0m\u001b[0m\n\u001b[0;32m--> 874\u001b[0;31m             \u001b[0;32mreturn\u001b[0m \u001b[0mself\u001b[0m\u001b[0;34m.\u001b[0m\u001b[0m_sslobj\u001b[0m\u001b[0;34m.\u001b[0m\u001b[0mread\u001b[0m\u001b[0;34m(\u001b[0m\u001b[0mlen\u001b[0m\u001b[0;34m,\u001b[0m \u001b[0mbuffer\u001b[0m\u001b[0;34m)\u001b[0m\u001b[0;34m\u001b[0m\u001b[0;34m\u001b[0m\u001b[0m\n\u001b[0m\u001b[1;32m    875\u001b[0m         \u001b[0;32mexcept\u001b[0m \u001b[0mSSLError\u001b[0m \u001b[0;32mas\u001b[0m \u001b[0mx\u001b[0m\u001b[0;34m:\u001b[0m\u001b[0;34m\u001b[0m\u001b[0;34m\u001b[0m\u001b[0m\n\u001b[1;32m    876\u001b[0m             \u001b[0;32mif\u001b[0m \u001b[0mx\u001b[0m\u001b[0;34m.\u001b[0m\u001b[0margs\u001b[0m\u001b[0;34m[\u001b[0m\u001b[0;36m0\u001b[0m\u001b[0;34m]\u001b[0m \u001b[0;34m==\u001b[0m \u001b[0mSSL_ERROR_EOF\u001b[0m \u001b[0;32mand\u001b[0m \u001b[0mself\u001b[0m\u001b[0;34m.\u001b[0m\u001b[0msuppress_ragged_eofs\u001b[0m\u001b[0;34m:\u001b[0m\u001b[0;34m\u001b[0m\u001b[0;34m\u001b[0m\u001b[0m\n",
      "\u001b[0;32m~/anaconda3/envs/Ambiente-36/lib/python3.6/ssl.py\u001b[0m in \u001b[0;36mread\u001b[0;34m(self, len, buffer)\u001b[0m\n\u001b[1;32m    629\u001b[0m         \"\"\"\n\u001b[1;32m    630\u001b[0m         \u001b[0;32mif\u001b[0m \u001b[0mbuffer\u001b[0m \u001b[0;32mis\u001b[0m \u001b[0;32mnot\u001b[0m \u001b[0;32mNone\u001b[0m\u001b[0;34m:\u001b[0m\u001b[0;34m\u001b[0m\u001b[0;34m\u001b[0m\u001b[0m\n\u001b[0;32m--> 631\u001b[0;31m             \u001b[0mv\u001b[0m \u001b[0;34m=\u001b[0m \u001b[0mself\u001b[0m\u001b[0;34m.\u001b[0m\u001b[0m_sslobj\u001b[0m\u001b[0;34m.\u001b[0m\u001b[0mread\u001b[0m\u001b[0;34m(\u001b[0m\u001b[0mlen\u001b[0m\u001b[0;34m,\u001b[0m \u001b[0mbuffer\u001b[0m\u001b[0;34m)\u001b[0m\u001b[0;34m\u001b[0m\u001b[0;34m\u001b[0m\u001b[0m\n\u001b[0m\u001b[1;32m    632\u001b[0m         \u001b[0;32melse\u001b[0m\u001b[0;34m:\u001b[0m\u001b[0;34m\u001b[0m\u001b[0;34m\u001b[0m\u001b[0m\n\u001b[1;32m    633\u001b[0m             \u001b[0mv\u001b[0m \u001b[0;34m=\u001b[0m \u001b[0mself\u001b[0m\u001b[0;34m.\u001b[0m\u001b[0m_sslobj\u001b[0m\u001b[0;34m.\u001b[0m\u001b[0mread\u001b[0m\u001b[0;34m(\u001b[0m\u001b[0mlen\u001b[0m\u001b[0;34m)\u001b[0m\u001b[0;34m\u001b[0m\u001b[0;34m\u001b[0m\u001b[0m\n",
      "\u001b[0;31mKeyboardInterrupt\u001b[0m: "
     ]
    }
   ],
   "source": [
    "myStream.filter(track=['iPhone'],languages=[\"en\"])\n",
    "#myStream.filter(track=['python'])"
   ]
  },
  {
   "cell_type": "code",
   "execution_count": 43,
   "id": "d064e519",
   "metadata": {},
   "outputs": [],
   "source": [
    "user = api.get_user('twitter')"
   ]
  },
  {
   "cell_type": "code",
   "execution_count": null,
   "id": "06eeb2e2",
   "metadata": {},
   "outputs": [],
   "source": []
  }
 ],
 "metadata": {
  "kernelspec": {
   "display_name": "Python 3",
   "language": "python",
   "name": "python3"
  },
  "language_info": {
   "codemirror_mode": {
    "name": "ipython",
    "version": 3
   },
   "file_extension": ".py",
   "mimetype": "text/x-python",
   "name": "python",
   "nbconvert_exporter": "python",
   "pygments_lexer": "ipython3",
   "version": "3.6.13"
  }
 },
 "nbformat": 4,
 "nbformat_minor": 5
}
