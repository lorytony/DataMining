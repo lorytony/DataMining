{
 "cells": [
  {
   "cell_type": "code",
   "execution_count": 5,
   "id": "88451d12",
   "metadata": {},
   "outputs": [],
   "source": [
    "import dateutil\n",
    "from datetime import datetime #con solo 'import datetime' non avrebbe funzionato - Why?? ahahahah"
   ]
  },
  {
   "cell_type": "code",
   "execution_count": 9,
   "id": "9e4d30a5",
   "metadata": {},
   "outputs": [
    {
     "name": "stdout",
     "output_type": "stream",
     "text": [
      "2021-08-31 10:26:06.206235\n"
     ]
    }
   ],
   "source": [
    "today = datetime.now()\n",
    "print(today)"
   ]
  },
  {
   "cell_type": "code",
   "execution_count": 2,
   "id": "81792dd2",
   "metadata": {},
   "outputs": [],
   "source": [
    "from datetime import timedelta"
   ]
  },
  {
   "cell_type": "code",
   "execution_count": 3,
   "id": "17192b28",
   "metadata": {
    "scrolled": true
   },
   "outputs": [
    {
     "name": "stdout",
     "output_type": "stream",
     "text": [
      "365 days, 12:30:00\n"
     ]
    }
   ],
   "source": [
    "print(timedelta(days=365, hours=12, minutes=30))"
   ]
  },
  {
   "cell_type": "code",
   "execution_count": 3,
   "id": "734d514b",
   "metadata": {},
   "outputs": [
    {
     "ename": "NameError",
     "evalue": "name 'today' is not defined",
     "output_type": "error",
     "traceback": [
      "\u001b[0;31m---------------------------------------------------------------------------\u001b[0m",
      "\u001b[0;31mNameError\u001b[0m                                 Traceback (most recent call last)",
      "\u001b[0;32m<ipython-input-3-98f8334a6881>\u001b[0m in \u001b[0;36m<module>\u001b[0;34m\u001b[0m\n\u001b[0;32m----> 1\u001b[0;31m \u001b[0mtomorrow\u001b[0m \u001b[0;34m=\u001b[0m \u001b[0mtoday\u001b[0m \u001b[0;34m+\u001b[0m \u001b[0mtimedelta\u001b[0m\u001b[0;34m(\u001b[0m\u001b[0mdays\u001b[0m \u001b[0;34m=\u001b[0m \u001b[0;36m31\u001b[0m\u001b[0;34m)\u001b[0m\u001b[0;34m\u001b[0m\u001b[0;34m\u001b[0m\u001b[0m\n\u001b[0m\u001b[1;32m      2\u001b[0m \u001b[0mprint\u001b[0m\u001b[0;34m(\u001b[0m\u001b[0;34m\"Data di domani: \"\u001b[0m\u001b[0;34m,\u001b[0m \u001b[0mtomorrow\u001b[0m\u001b[0;34m)\u001b[0m\u001b[0;34m\u001b[0m\u001b[0;34m\u001b[0m\u001b[0m\n",
      "\u001b[0;31mNameError\u001b[0m: name 'today' is not defined"
     ]
    }
   ],
   "source": [
    "tomorrow = today + timedelta(days = 31)\n",
    "print(\"Data di domani: \", tomorrow)"
   ]
  },
  {
   "cell_type": "code",
   "execution_count": 6,
   "id": "2d5711a4",
   "metadata": {},
   "outputs": [
    {
     "name": "stdout",
     "output_type": "stream",
     "text": [
      "2020-08-25 15:34:33\n"
     ]
    }
   ],
   "source": [
    "date_str = \"2020-08-25 15:34:33\"\n",
    "date_obj = datetime.strptime(date_str,\"%Y-%m-%d %H:%M:%S\")\n",
    "print(date_obj)"
   ]
  },
  {
   "cell_type": "code",
   "execution_count": 7,
   "id": "8834d5ec",
   "metadata": {},
   "outputs": [
    {
     "name": "stdout",
     "output_type": "stream",
     "text": [
      "2020-08-25 15:34:33\n",
      "<class 'str'>\n"
     ]
    }
   ],
   "source": [
    "stringa_data = str(date_obj)\n",
    "print(stringa_data)\n",
    "print(type(stringa_data))"
   ]
  },
  {
   "cell_type": "code",
   "execution_count": 8,
   "id": "b5887bfd",
   "metadata": {},
   "outputs": [
    {
     "name": "stdout",
     "output_type": "stream",
     "text": [
      "322\n"
     ]
    }
   ],
   "source": [
    "data1 = \"2020-09-13 14:33:22\"\n",
    "data2 = \"2021-08-01 14:33:22\"\n",
    "data1_obj = datetime.strptime(data1,\"%Y-%m-%d %H:%M:%S\")\n",
    "data2_obj = datetime.strptime(data2,\"%Y-%m-%d %H:%M:%S\")\n",
    "deltaData = data2_obj - data1_obj\n",
    "print(deltaData.days)"
   ]
  },
  {
   "cell_type": "code",
   "execution_count": 15,
   "id": "663b53b1",
   "metadata": {},
   "outputs": [],
   "source": [
    "#iniziamo!\n",
    "import csv\n",
    "\n",
    "f_reader = open('samsung_tweets_preprocessed.csv','r')\n",
    "f_writer = open('samsung_whitespace_eliminated.csv','w')\n",
    "writer = csv.writer(f_writer)\n",
    "#non scordarti l'header al file csv!!!\n",
    "header = ['index', 'Tweet Datetime', 'Tweet Text','tag']\n",
    "writer.writerow(header)\n",
    "\n",
    "csv_reader = csv.DictReader(f_reader,delimiter=',')\n",
    "ind = 1\n",
    "data_list = []\n",
    "cleaned_text =\"\"\n",
    "for row in csv_reader:\n",
    "    cleaned_text = \" \".join(row['Tweet Text'].split())\n",
    "    data_list.append(str(ind))\n",
    "    data_list.append(row['Tweet Datetime'])\n",
    "    data_list.append(cleaned_text)\n",
    "    data_list.append(row['tag'])\n",
    "    writer.writerow(data_list)\n",
    "    \n",
    "    data_list = []\n",
    "    cleaned_text = \"\"\n",
    "    ind = ind + 1\n",
    "\n",
    "f_reader.close()\n",
    "f_writer.close()"
   ]
  },
  {
   "cell_type": "code",
   "execution_count": 25,
   "id": "13cd2376",
   "metadata": {},
   "outputs": [
    {
     "ename": "SyntaxError",
     "evalue": "invalid syntax (<ipython-input-25-12d50407610c>, line 1)",
     "output_type": "error",
     "traceback": [
      "\u001b[0;36m  File \u001b[0;32m\"<ipython-input-25-12d50407610c>\"\u001b[0;36m, line \u001b[0;32m1\u001b[0m\n\u001b[0;31m    file_samsung = open....\u001b[0m\n\u001b[0m                         ^\u001b[0m\n\u001b[0;31mSyntaxError\u001b[0m\u001b[0;31m:\u001b[0m invalid syntax\n"
     ]
    }
   ],
   "source": [
    "#CODICE GUIDA - DA NON ESEGUIRE\n",
    "file_samsung = open....\n",
    "\n",
    "#pulizia whitespaces(anche \\t \\n)\n",
    "\n",
    "words = ['Samsung','samsung'] #-> Apple\n",
    "words = ['galaxy','Galaxy','galaxynote','galaxy s','galaxy z'] # -> iPhone12\n",
    "words = ['Android','android'] #-> iOS\n",
    "for row in file_samsung\n",
    "    date_obj = datetime.strptime(row[\"created-at\"],\"%Y-%m-%d %H:%M:%S\")\n",
    "    new_date_obj = date_obj + timedelta(days = 220 )#timedelta da rivedere \n",
    "    if in row[\"text\"] c'è parola in words:\n",
    "        Cambiala con Apple\n",
    "\n",
    "\n",
    "file_1week_august\n",
    "file_2week_august\n",
    "file_3week_august\n",
    "\n"
   ]
  },
  {
   "cell_type": "code",
   "execution_count": 26,
   "id": "1e6eb22b",
   "metadata": {},
   "outputs": [
    {
     "name": "stdout",
     "output_type": "stream",
     "text": [
      "I have a Samsung iPhone12 s z y a santos\n",
      "I have a Apple iPhone12 and a Apple iOS iPhone12\n"
     ]
    }
   ],
   "source": [
    "import re\n",
    "stringa = \"I have a Samsung galaxy s z y a santos\"\n",
    "stringa = stringa.replace(\"galaxy\",\"iPhone12\")\n",
    "print(stringa)\n",
    "\n",
    "stringa2 =\"I have a samsung galaxy s and a Samsung Android galaxynote\"\n",
    "\n",
    "translater_dict ={\n",
    "    'Samsung':'Apple',\n",
    "    'samsung':'Apple',\n",
    "    'galaxy':'iPhone12',\n",
    "    'Galaxy':'iPhone12',\n",
    "    'galaxynote':'iPhone12',\n",
    "    'galaxy s':'iPhone12',\n",
    "    'galaxy z':'iPhone12',\n",
    "    'Android':'iOS',\n",
    "    'android':'iOS',\n",
    "}\n",
    "\n",
    "\n",
    "stringa2 = re.sub('Samsung|samsung','Apple',stringa2)\n",
    "#Pay attention!Ordering of words is crucial\n",
    "stringa2 = re.sub('galaxy s|galaxy z|galaxynote|Galaxy|galaxy','iPhone12',stringa2)\n",
    "stringa2 = re.sub('Android|android','iOS',stringa2)\n",
    "print(stringa2)"
   ]
  },
  {
   "cell_type": "code",
   "execution_count": 12,
   "id": "c955fccb",
   "metadata": {},
   "outputs": [],
   "source": [
    "#iniziamo! - modifica della data e sostituzioni parole Samsung,galaxy ect\n",
    "import csv\n",
    "import re\n",
    "from datetime import datetime #con solo 'import datetime' non avrebbe funzionato - Why?? ahahahah\n",
    "\n",
    "f_reader = open('samsung_whitespace_eliminated.csv','r')\n",
    "f_writer = open('apple_tweets_for_modelling','w')\n",
    "writer = csv.writer(f_writer)\n",
    "#non scordarti l'header al file csv!!!\n",
    "header = ['index', 'Tweet Datetime', 'Tweet Text','tag']\n",
    "writer.writerow(header)\n",
    "\n",
    "csv_reader = csv.DictReader(f_reader,delimiter=',')\n",
    "\n",
    "data_updated = \"\"\n",
    "data_list = []\n",
    "for row in csv_reader:\n",
    "    \n",
    "    \n",
    "    #es:row['Tweet Datetime'] \"2020-08-25 15:34:33\"\n",
    "    date_obj = datetime.strptime(row['Tweet Datetime'],\"%Y-%m-%d %H:%M:%S\")\n",
    "    new_date_obj = date_obj + timedelta(days = 322)\n",
    "    data_updated = str(new_date_obj)\n",
    "    \n",
    "    tmp_string = row['Tweet Text']\n",
    "    tmp_string = re.sub('Samsung|samsung','Apple',tmp_string)\n",
    "    #Pay attention!Ordering of words is crucial\n",
    "    tmp_string = re.sub('galaxy s|galaxy z|galaxynote|Galaxy|galaxy','iPhone12',tmp_string)\n",
    "    tmp_string = re.sub('Android|android','iOS',tmp_string)\n",
    "    row['Tweet Text'] = tmp_string\n",
    "    \n",
    "    data_list.append(row[\"index\"])\n",
    "    data_list.append(data_updated)\n",
    "    data_list.append(row['Tweet Text'])\n",
    "    data_list.append(row['tag'])\n",
    "    writer.writerow(data_list)\n",
    "    \n",
    "    data_list = []\n",
    "    data_updated = \"\"\n",
    "\n",
    "f_reader.close()\n",
    "f_writer.close()"
   ]
  },
  {
   "cell_type": "code",
   "execution_count": null,
   "id": "75d7c38c",
   "metadata": {},
   "outputs": [],
   "source": []
  }
 ],
 "metadata": {
  "kernelspec": {
   "display_name": "Python 3",
   "language": "python",
   "name": "python3"
  },
  "language_info": {
   "codemirror_mode": {
    "name": "ipython",
    "version": 3
   },
   "file_extension": ".py",
   "mimetype": "text/x-python",
   "name": "python",
   "nbconvert_exporter": "python",
   "pygments_lexer": "ipython3",
   "version": "3.6.13"
  }
 },
 "nbformat": 4,
 "nbformat_minor": 5
}
