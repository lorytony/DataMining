{
 "cells": [
  {
   "cell_type": "code",
   "execution_count": 1,
   "id": "2bb8ecd8",
   "metadata": {},
   "outputs": [],
   "source": [
    "import pandas as pd\n",
    "import dateutil\n",
    "from datetime import datetime\n",
    "from datetime import timedelta\n",
    "import csv\n",
    "import time\n",
    "#time.sleep(3) sleep 3 seconds"
   ]
  },
  {
   "cell_type": "code",
   "execution_count": 8,
   "id": "2a97c560",
   "metadata": {},
   "outputs": [
    {
     "name": "stdout",
     "output_type": "stream",
     "text": [
      "0\n",
      "1\n",
      "1\n",
      "5\n",
      "2\n",
      "10\n",
      "4\n",
      "4\n",
      "9\n",
      "3\n"
     ]
    }
   ],
   "source": [
    "\n"
   ]
  },
  {
   "cell_type": "code",
   "execution_count": 23,
   "id": "3ff74373",
   "metadata": {},
   "outputs": [
    {
     "name": "stdout",
     "output_type": "stream",
     "text": [
      "0\n",
      "positive\n"
     ]
    }
   ],
   "source": [
    "import random\n",
    "randomNumber = random.randint(0,2)\n",
    "print(randomNumber)\n",
    "\n",
    "tags = [\"positive\",\"negative\",\"neutral\"]\n",
    "print(tags[randomNumber])"
   ]
  },
  {
   "cell_type": "code",
   "execution_count": 2,
   "id": "04eccdf8",
   "metadata": {},
   "outputs": [
    {
     "ename": "NameError",
     "evalue": "name 'random' is not defined",
     "output_type": "error",
     "traceback": [
      "\u001b[0;31m---------------------------------------------------------------------------\u001b[0m",
      "\u001b[0;31mNameError\u001b[0m                                 Traceback (most recent call last)",
      "\u001b[0;32m<ipython-input-2-cbd4d86214b8>\u001b[0m in \u001b[0;36m<module>\u001b[0;34m\u001b[0m\n\u001b[1;32m     18\u001b[0m \u001b[0;34m\u001b[0m\u001b[0m\n\u001b[1;32m     19\u001b[0m     \u001b[0;32mfor\u001b[0m \u001b[0mi\u001b[0m \u001b[0;32min\u001b[0m \u001b[0mrange\u001b[0m\u001b[0;34m(\u001b[0m\u001b[0;36m100\u001b[0m\u001b[0;34m)\u001b[0m\u001b[0;34m:\u001b[0m\u001b[0;34m\u001b[0m\u001b[0;34m\u001b[0m\u001b[0m\n\u001b[0;32m---> 20\u001b[0;31m         \u001b[0mrandomNumber\u001b[0m \u001b[0;34m=\u001b[0m \u001b[0mrandom\u001b[0m\u001b[0;34m.\u001b[0m\u001b[0mrandint\u001b[0m\u001b[0;34m(\u001b[0m\u001b[0;36m0\u001b[0m\u001b[0;34m,\u001b[0m\u001b[0;36m2\u001b[0m\u001b[0;34m)\u001b[0m\u001b[0;34m\u001b[0m\u001b[0;34m\u001b[0m\u001b[0m\n\u001b[0m\u001b[1;32m     21\u001b[0m         \u001b[0mgiornoEora\u001b[0m \u001b[0;34m=\u001b[0m \u001b[0mgiornoEora\u001b[0m \u001b[0;34m+\u001b[0m \u001b[0mtimedelta\u001b[0m\u001b[0;34m(\u001b[0m\u001b[0mseconds\u001b[0m \u001b[0;34m=\u001b[0m \u001b[0;36m1\u001b[0m\u001b[0;34m)\u001b[0m\u001b[0;34m\u001b[0m\u001b[0;34m\u001b[0m\u001b[0m\n\u001b[1;32m     22\u001b[0m         \u001b[0;31m#scrivo in file i,data+time,\"a caso\",tag\u001b[0m\u001b[0;34m\u001b[0m\u001b[0;34m\u001b[0m\u001b[0;34m\u001b[0m\u001b[0m\n",
      "\u001b[0;31mNameError\u001b[0m: name 'random' is not defined"
     ]
    }
   ],
   "source": [
    "simbolicData = \"2020-08-25 10:10:10\"\n",
    "giornoEora = datetime.strptime(simbolicData,\"%Y-%m-%d %H:%M:%S\")\n",
    "\n",
    "f_writer = open('CleanedTweets.csv','a')\n",
    "\n",
    "#non scordarti l'header al file csv!!!\n",
    "writer = csv.writer(f_writer)\n",
    "header = ['index', 'Tweet Datetime', 'Tweet Text','tag']\n",
    "writer.writerow(header)\n",
    "f_writer.close()\n",
    "\n",
    "tags = [\"positive\",\"negative\",\"neutral\"]\n",
    "row =[]\n",
    "\n",
    "for scritture in range(4):\n",
    "    f_writer = open('CleanedTweets.csv','a')\n",
    "    writer = csv.writer(f_writer)\n",
    "    \n",
    "    for i in range(100):\n",
    "        randomNumber = random.randint(0,2)\n",
    "        giornoEora = giornoEora + timedelta(seconds = 1)\n",
    "        #scrivo in file i,data+time,\"a caso\",tag\n",
    "        \n",
    "        \n",
    "        row.append(str(i))\n",
    "        row.append(str(giornoEora))\n",
    "        row.append(\"Apple phone is good bad\")\n",
    "        row.append(tags[randomNumber])\n",
    "        writer.writerow(row)\n",
    "        row =[]\n",
    "    f_writer.close()\n",
    "    time.sleep(4)\n",
    "\n"
   ]
  },
  {
   "cell_type": "code",
   "execution_count": 3,
   "id": "d47ee913",
   "metadata": {
    "scrolled": true
   },
   "outputs": [
    {
     "name": "stdout",
     "output_type": "stream",
     "text": [
      "2020-08-25 10:10:11\n",
      "2020-08-25 10:10:12\n",
      "2020-08-25 10:10:13\n",
      "2020-08-25 10:10:14\n",
      "2020-08-25 10:10:15\n",
      "2020-08-25 10:10:16\n",
      "2020-08-25 10:10:17\n",
      "2020-08-25 10:10:18\n",
      "2020-08-25 10:10:19\n",
      "2020-08-25 10:10:20\n",
      "2020-08-25 10:10:21\n",
      "2020-08-25 10:10:22\n",
      "2020-08-25 10:10:23\n",
      "2020-08-25 10:10:24\n",
      "2020-08-25 10:10:25\n",
      "2020-08-25 10:10:26\n",
      "2020-08-25 10:10:27\n",
      "2020-08-25 10:10:28\n",
      "2020-08-25 10:10:29\n",
      "2020-08-25 10:10:30\n",
      "2020-08-25 10:10:31\n",
      "2020-08-25 10:10:32\n",
      "2020-08-25 10:10:33\n",
      "2020-08-25 10:10:34\n",
      "2020-08-25 10:10:35\n",
      "2020-08-25 10:10:36\n",
      "2020-08-25 10:10:37\n",
      "2020-08-25 10:10:38\n",
      "2020-08-25 10:10:39\n",
      "2020-08-25 10:10:40\n",
      "2020-08-25 10:10:41\n",
      "2020-08-25 10:10:42\n",
      "2020-08-25 10:10:43\n",
      "2020-08-25 10:10:44\n",
      "2020-08-25 10:10:45\n",
      "2020-08-25 10:10:46\n",
      "2020-08-25 10:10:47\n",
      "2020-08-25 10:10:48\n",
      "2020-08-25 10:10:49\n",
      "2020-08-25 10:10:50\n",
      "2020-08-25 10:10:51\n",
      "2020-08-25 10:10:52\n",
      "2020-08-25 10:10:53\n",
      "2020-08-25 10:10:54\n",
      "2020-08-25 10:10:55\n",
      "2020-08-25 10:10:56\n",
      "2020-08-25 10:10:57\n",
      "2020-08-25 10:10:58\n",
      "2020-08-25 10:10:59\n",
      "2020-08-25 10:11:00\n",
      "2020-08-25 10:11:01\n",
      "2020-08-25 10:11:02\n",
      "2020-08-25 10:11:03\n",
      "2020-08-25 10:11:04\n",
      "2020-08-25 10:11:05\n",
      "2020-08-25 10:11:06\n",
      "2020-08-25 10:11:07\n",
      "2020-08-25 10:11:08\n",
      "2020-08-25 10:11:09\n",
      "2020-08-25 10:11:10\n",
      "2020-08-25 10:11:11\n",
      "2020-08-25 10:11:12\n",
      "2020-08-25 10:11:13\n",
      "2020-08-25 10:11:14\n",
      "2020-08-25 10:11:15\n",
      "2020-08-25 10:11:16\n",
      "2020-08-25 10:11:17\n",
      "2020-08-25 10:11:18\n",
      "2020-08-25 10:11:19\n",
      "2020-08-25 10:11:20\n",
      "2020-08-25 10:11:21\n",
      "2020-08-25 10:11:22\n",
      "2020-08-25 10:11:23\n",
      "2020-08-25 10:11:24\n",
      "2020-08-25 10:11:25\n",
      "2020-08-25 10:11:26\n",
      "2020-08-25 10:11:27\n",
      "2020-08-25 10:11:28\n",
      "2020-08-25 10:11:29\n",
      "2020-08-25 10:11:30\n",
      "2020-08-25 10:11:31\n",
      "2020-08-25 10:11:32\n",
      "2020-08-25 10:11:33\n",
      "2020-08-25 10:11:34\n",
      "2020-08-25 10:11:35\n",
      "2020-08-25 10:11:36\n",
      "2020-08-25 10:11:37\n",
      "2020-08-25 10:11:38\n",
      "2020-08-25 10:11:39\n",
      "2020-08-25 10:11:40\n",
      "2020-08-25 10:11:41\n",
      "2020-08-25 10:11:42\n",
      "2020-08-25 10:11:43\n",
      "2020-08-25 10:11:44\n",
      "2020-08-25 10:11:45\n",
      "2020-08-25 10:11:46\n",
      "2020-08-25 10:11:47\n",
      "2020-08-25 10:11:48\n",
      "2020-08-25 10:11:49\n",
      "2020-08-25 10:11:50\n"
     ]
    }
   ],
   "source": [
    "simbolicData = \"2020-08-25 10:10:10\"\n",
    "time = datetime.strptime(simbolicData,\"%Y-%m-%d %H:%M:%S\")\n",
    "\n",
    "for i in range(100):\n",
    "    time = time + timedelta(seconds = 1)\n",
    "    print(time)"
   ]
  },
  {
   "cell_type": "code",
   "execution_count": null,
   "id": "33d8f0db",
   "metadata": {},
   "outputs": [
    {
     "name": "stdout",
     "output_type": "stream",
     "text": [
      "Dash is running on http://127.0.0.1:8050/\n",
      "\n",
      " * Serving Flask app \"AnalyticsDashboard\" (lazy loading)\n",
      " * Environment: production\n",
      "\u001b[31m   WARNING: This is a development server. Do not use it in a production deployment.\u001b[0m\n",
      "\u001b[2m   Use a production WSGI server instead.\u001b[0m\n",
      " * Debug mode: on\n",
      "timestamp now: 2021-09-19 10:48:47, timestampOld: 2021-09-19 10:38:47\n",
      "0    2021-09-19 10:38:40\n",
      "1    2021-09-19 10:39:00\n",
      "2    2021-09-19 10:39:20\n",
      "3    2021-09-19 10:39:40\n",
      "4    2021-09-19 10:40:00\n",
      "5    2021-09-19 10:40:20\n",
      "6    2021-09-19 10:40:40\n",
      "7    2021-09-19 10:42:20\n",
      "8    2021-09-19 10:42:40\n",
      "9    2021-09-19 10:43:00\n",
      "10   2021-09-19 10:43:20\n",
      "11   2021-09-19 10:43:40\n",
      "12   2021-09-19 10:44:00\n",
      "13   2021-09-19 10:44:20\n",
      "14   2021-09-19 10:44:40\n",
      "15   2021-09-19 10:45:00\n",
      "16   2021-09-19 10:45:20\n",
      "17   2021-09-19 10:45:40\n",
      "18   2021-09-19 10:46:00\n",
      "19   2021-09-19 10:47:20\n",
      "20   2021-09-19 10:47:40\n",
      "21   2021-09-19 10:48:00\n",
      "22   2021-09-19 10:48:20\n",
      "23   2021-09-19 10:48:40\n",
      "Name: Time in UTC, dtype: datetime64[ns]\n"
     ]
    }
   ],
   "source": [
    "!python AnalyticsDashboard.py\n"
   ]
  },
  {
   "cell_type": "code",
   "execution_count": null,
   "id": "dc99ee78",
   "metadata": {},
   "outputs": [],
   "source": []
  }
 ],
 "metadata": {
  "kernelspec": {
   "display_name": "Python 3",
   "language": "python",
   "name": "python3"
  },
  "language_info": {
   "codemirror_mode": {
    "name": "ipython",
    "version": 3
   },
   "file_extension": ".py",
   "mimetype": "text/x-python",
   "name": "python",
   "nbconvert_exporter": "python",
   "pygments_lexer": "ipython3",
   "version": "3.6.13"
  }
 },
 "nbformat": 4,
 "nbformat_minor": 5
}
