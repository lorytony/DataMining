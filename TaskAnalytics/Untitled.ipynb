{
 "cells": [
  {
   "cell_type": "code",
   "execution_count": 1,
   "id": "267c2fc8",
   "metadata": {},
   "outputs": [],
   "source": [
    "import pandas as pd\n",
    "import numpy as np\n",
    "#import datetime\n",
    "import dateutil\n",
    "#import datetime as datetime\n",
    "from datetime import datetime\n",
    "from datetime import timedelta\n"
   ]
  },
  {
   "cell_type": "code",
   "execution_count": 14,
   "id": "b86ed958",
   "metadata": {},
   "outputs": [
    {
     "name": "stdout",
     "output_type": "stream",
     "text": [
      "2021-09-18 16:37:21.501358\n",
      "2021-09-18 14:37:21.501422\n",
      "timestamp now: 2021-09-18 14:37:21, timestampOld: 2021-09-18 14:35:21\n"
     ]
    }
   ],
   "source": [
    "today = datetime.now()\n",
    "today2 = datetime.utcnow()\n",
    "print(today)\n",
    "print(today2)\n",
    "\n",
    "t_interval = timedelta(days=0,hours=0,minutes=2)\n",
    "\n",
    "t_now = datetime.utcnow()\n",
    "t_prec = t_now - t_interval\n",
    "\n",
    "print(\"timestamp now: {}, timestampOld: {}\".format(t_now.strftime('%Y-%m-%d %H:%M:%S'),t_prec.strftime('%Y-%m-%d %H:%M:%S')))"
   ]
  },
  {
   "cell_type": "code",
   "execution_count": 6,
   "id": "4a5bc345",
   "metadata": {},
   "outputs": [
    {
     "name": "stdout",
     "output_type": "stream",
     "text": [
      "  Tweet Data   Tweet Text        tag\n",
      "0   20:20:20     20:20:21   20:20:22\n",
      "1       ciao  arrivederci  oh vieni!\n",
      "2   positive     negative    neutral\n"
     ]
    }
   ],
   "source": [
    "df = pd.DataFrame(np.array([[\"20:20:20\",\"20:20:21\",\"20:20:22\"],[\"ciao\",\"arrivederci\",\"oh vieni!\"],[\"positive\",\"negative\",\"neutral\"]]),columns=[\"Tweet Data\",\"Tweet Text\",\"tag\"])\n",
    "\n",
    "print(df)"
   ]
  },
  {
   "cell_type": "code",
   "execution_count": 2,
   "id": "1618407f",
   "metadata": {},
   "outputs": [
    {
     "name": "stdout",
     "output_type": "stream",
     "text": [
      "           Tweet Data   Tweet Text       tag\n",
      "0 1900-01-01 20:20:20         ciao  positive\n",
      "1 1900-01-01 20:20:21  arrivederci  positive\n",
      "2 1900-01-01 20:20:22    oh vieni!   neutral\n",
      "3 1900-01-01 20:20:23         ciao  positive\n",
      "4 1900-01-01 20:20:24  arrivederci  negative\n",
      "5 1900-01-01 20:20:25    oh vieni!   neutral\n",
      "           Tweet Data   Tweet Text       tag\n",
      "0 1900-01-01 20:20:20         ciao  positive\n",
      "1 1900-01-01 20:20:21  arrivederci  positive\n",
      "2 1900-01-01 20:20:22    oh vieni!   neutral\n",
      "3 1900-01-01 20:20:23         ciao  positive\n",
      "4 1900-01-01 20:20:24  arrivederci  negative\n",
      "5 1900-01-01 20:20:25    oh vieni!   neutral\n"
     ]
    }
   ],
   "source": [
    "d = {\n",
    "    \"Tweet Data\":[\"20:20:20\",\"20:20:21\",\"20:20:22\",\"20:20:23\",\"20:20:24\",\"20:20:25\"],\n",
    "    \"Tweet Text\":[\"ciao\",\"arrivederci\",\"oh vieni!\",\"ciao\",\"arrivederci\",\"oh vieni!\"],\n",
    "    \"tag\":[\"positive\",\"positive\",\"neutral\",\"positive\",\"negative\",\"neutral\"]\n",
    "}\n",
    "\n",
    "columns=[\"Tweet Data\",\"Tweet Text\",\"tag\"]\n",
    "df = pd.DataFrame(d)\n",
    "df['Tweet Data'] = pd.to_datetime(df['Tweet Data'], format='%H:%M:%S')\n",
    "print(df)\n",
    "\n",
    "df.set_index(pd.DatetimeIndex(df[\"Tweet Data\"]))\n",
    "#del df[\"Tweet Data\"]\n",
    "print(df)\n"
   ]
  },
  {
   "cell_type": "code",
   "execution_count": 4,
   "id": "c1e0e26c",
   "metadata": {},
   "outputs": [
    {
     "name": "stdout",
     "output_type": "stream",
     "text": [
      "{'positive': 3, 'negative': 1, 'neutral': 2}\n"
     ]
    }
   ],
   "source": [
    "values = {\n",
    "    \"positive\": 0,\n",
    "    \"negative\": 0,\n",
    "    \"neutral\": 0,\n",
    "}\n",
    "\n",
    "\n",
    "list_tags = df['tag']\n",
    "\n",
    "\n",
    "\n",
    "for value in list_tags:\n",
    "    if(value == 'neutral'):\n",
    "        values[\"neutral\"] += 1\n",
    "\n",
    "    if(value == 'negative'):\n",
    "        values[\"negative\"] += 1\n",
    "\n",
    "    if(value == 'positive'):\n",
    "        values[\"positive\"] += 1\n",
    "\n",
    "print(values)"
   ]
  },
  {
   "cell_type": "code",
   "execution_count": 39,
   "id": "918367c4",
   "metadata": {},
   "outputs": [
    {
     "name": "stdout",
     "output_type": "stream",
     "text": [
      "       dates  status\n",
      "0 2019-09-02  Opened\n",
      "1 2019-09-13  Opened\n",
      "2 2019-09-21  Closed\n",
      "dates     datetime64[ns]\n",
      "status            object\n",
      "dtype: object\n"
     ]
    }
   ],
   "source": [
    "#a quanto pare non devo passare \n",
    "#una stringa di data ma un oggetto data\n",
    "\n",
    "values = {'dates':  ['20190902','20190913','20190921'],\n",
    "          'status': ['Opened','Opened','Closed']\n",
    "          }\n",
    "\n",
    "df = pd.DataFrame(values, columns = ['dates','status'])\n",
    "\n",
    "df['dates'] = pd.to_datetime(df['dates'], format='%Y%m%d')\n",
    "\n",
    "print (df)\n",
    "print (df.dtypes)"
   ]
  },
  {
   "cell_type": "code",
   "execution_count": 23,
   "id": "e56aa866",
   "metadata": {},
   "outputs": [
    {
     "name": "stdout",
     "output_type": "stream",
     "text": [
      "2020-08-25 10:16:49\n",
      "         Tweet Datetime               Tweet Text       tag\n",
      "0   2020-08-25 10:10:11  Apple phone is good bad   neutral\n",
      "1   2020-08-25 10:10:12  Apple phone is good bad   neutral\n",
      "2   2020-08-25 10:10:13  Apple phone is good bad   neutral\n",
      "3   2020-08-25 10:10:14  Apple phone is good bad  negative\n",
      "4   2020-08-25 10:10:15  Apple phone is good bad   neutral\n",
      "..                  ...                      ...       ...\n",
      "395 2020-08-25 10:16:46  Apple phone is good bad  positive\n",
      "396 2020-08-25 10:16:47  Apple phone is good bad  negative\n",
      "397 2020-08-25 10:16:48  Apple phone is good bad   neutral\n",
      "398 2020-08-25 10:16:49  Apple phone is good bad  positive\n",
      "399 2020-08-25 10:16:50  Apple phone is good bad   neutral\n",
      "\n",
      "[400 rows x 3 columns]\n",
      "         Tweet Datetime               Tweet Text      tag\n",
      "399 2020-08-25 10:16:50  Apple phone is good bad  neutral\n",
      "   index      Tweet Datetime               Tweet Text      tag\n",
      "0    399 2020-08-25 10:16:50  Apple phone is good bad  neutral\n"
     ]
    }
   ],
   "source": [
    "\n",
    "#time_now = pd.to_datetime(\"2020-08-25 10:13:10\")\n",
    "#time_past = pd.to_datetime(\"2020-08-25 10:11:10\")\n",
    "\n",
    "now_time = datetime.strptime(\"2020-08-25 10:18:49\",'%Y-%m-%d %H:%M:%S')\n",
    "interval_time = timedelta(days=0,hours=0,minutes=2)\n",
    "past_time = now_time - interval_time\n",
    "\n",
    "print(past_time.strftime('%Y-%m-%d %H:%M:%S'))\n",
    "\n",
    "df_db = pd.read_csv(\"CleanedTweets.csv\",index_col=False)\n",
    "df_db['Tweet Datetime'] = pd.to_datetime(df_db['Tweet Datetime'], format='%Y-%m-%d %H:%M:%S')\n",
    "\n",
    "del(df_db['index']) #Se non levavo questa colonna non funzionava il groupBy di pandas. \n",
    "                    #I conti non venivano fatti a modo...\n",
    "    \n",
    "#df_db.set_index(\"Tweet Datetime\")\n",
    "print(df_db)\n",
    "\n",
    "time_mask = (df_db['Tweet Datetime'] > past_time) & \\\n",
    "            (df_db['Tweet Datetime'] <= now_time)\n",
    "\n",
    "\n",
    "df2 = df_db[time_mask]\n",
    "\n",
    "\n",
    "print(df2)\n",
    "\n",
    "df3 = df2.reset_index()\n",
    "print(df3)\n",
    "#df2.set_index(pd.DatetimeIndex(df2[\"Tweet Datetime\"]))\n",
    "#del(df2[index])"
   ]
  },
  {
   "cell_type": "code",
   "execution_count": 24,
   "id": "0b21314e",
   "metadata": {},
   "outputs": [
    {
     "name": "stdout",
     "output_type": "stream",
     "text": [
      "                             Tweet Text\n",
      "Tweet Datetime      tag                \n",
      "2020-08-25 10:16:40 neutral           1\n",
      "                    Tweet Text\n",
      "tag                    neutral\n",
      "Tweet Datetime                \n",
      "2020-08-25 10:16:40          1\n",
      "                             Tweet Text\n",
      "Tweet Datetime      tag                \n",
      "2020-08-25 10:16:40 neutral           1\n",
      "       Tweet Datetime      tag  Tweet Text\n",
      "0 2020-08-25 10:16:40  neutral           1\n",
      "          Time in UTC      tag  Num of 'Apple' mentions\n",
      "0 2020-08-25 10:16:40  neutral                        1\n",
      "Series([], Name: Time in UTC, dtype: datetime64[ns])\n"
     ]
    }
   ],
   "source": [
    "\n",
    "result = df2.groupby([pd.Grouper(key='Tweet Datetime',freq='20s'),'tag']).count()\n",
    "\n",
    "print(result)\n",
    "\n",
    "result2 = result.unstack(fill_value=0)\n",
    "print(result2)\n",
    "\n",
    "result3 = result2.stack()\n",
    "print(result3)\n",
    "\n",
    "result4 = result3.reset_index()\n",
    "print(result4)\n",
    "\n",
    "result5 = result4.rename(columns={\"Tweet Text\":\"Num of '{}' mentions\".format(\"Apple\"),\n",
    "                                 \"Tweet Datetime\":\"Time in UTC\"})\n",
    "print(result5)\n",
    "\n",
    "time_series = result5[\"Time in UTC\"][result5['tag']=='positive'].reset_index(drop=True)\n",
    "\n",
    "print(time_series)\n",
    "\n"
   ]
  },
  {
   "cell_type": "code",
   "execution_count": null,
   "id": "8c504af0",
   "metadata": {},
   "outputs": [],
   "source": []
  }
 ],
 "metadata": {
  "kernelspec": {
   "display_name": "Python 3",
   "language": "python",
   "name": "python3"
  },
  "language_info": {
   "codemirror_mode": {
    "name": "ipython",
    "version": 3
   },
   "file_extension": ".py",
   "mimetype": "text/x-python",
   "name": "python",
   "nbconvert_exporter": "python",
   "pygments_lexer": "ipython3",
   "version": "3.6.13"
  }
 },
 "nbformat": 4,
 "nbformat_minor": 5
}
